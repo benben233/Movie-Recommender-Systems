{
 "cells": [
  {
   "cell_type": "markdown",
   "metadata": {
    "_cell_guid": "da447453-96e3-48fe-93cd-b9195433add6",
    "_uuid": "b63091dc0b9d04f19ab8861754a83b79c1789e96"
   },
   "source": [
    "# Movies Recommender System\n",
    "\n",
    "In this notebook, I will attempt at implementing a few recommendation algorithms (content based, popularity based and collaborative filtering) and try to build an ensemble of these models to come up with our final recommendation system. With us, we have two MovieLens datasets.\n",
    "\n",
    "* **The Full Dataset:** Consists of 26,000,000 ratings and 750,000 tag applications applied to 45,000 movies by 270,000 users. Includes tag genome data with 12 million relevance scores across 1,100 tags.\n",
    "* **The Small Dataset:** Comprises 100,000 ratings and 1,300 tag applications applied to 9,000 movies by 700 users.\n",
    "\n",
    "I will build a Simple Recommender using movies from the *Full Dataset* whereas all personalised recommender systems will make use of the small dataset (due to the computing power I possess being very limited). As a first step, I will build my simple recommender system."
   ]
  },
  {
   "cell_type": "code",
   "execution_count": 2,
   "metadata": {
    "_cell_guid": "78fea705-f9ad-4a81-aafd-8b7b624110d1",
    "_uuid": "1c291fe3725c706e0003f01f0102abb9709f25fc",
    "collapsed": true,
    "jupyter": {
     "outputs_hidden": true
    }
   },
   "outputs": [
    {
     "name": "stderr",
     "output_type": "stream",
     "text": [
      "C:\\Users\\tech_\\AppData\\Local\\Programs\\Python\\Python38\\lib\\site-packages\\scipy\\__init__.py:146: UserWarning: A NumPy version >=1.16.5 and <1.23.0 is required for this version of SciPy (detected version 1.23.4\n",
      "  warnings.warn(f\"A NumPy version >={np_minversion} and <{np_maxversion}\"\n"
     ]
    }
   ],
   "source": [
    "import pandas as pd\n",
    "import numpy as np\n",
    "from ast import literal_eval\n",
    "from sklearn.feature_extraction.text import TfidfVectorizer, CountVectorizer\n",
    "from sklearn.metrics.pairwise import linear_kernel, cosine_similarity"
   ]
  },
  {
   "cell_type": "markdown",
   "metadata": {
    "_cell_guid": "f130bae8-1bb0-415d-9a39-557fe180b490",
    "_uuid": "49131e65f312719487848f6ef42488041a44028e"
   },
   "source": [
    "## Simple Recommender\n",
    "\n",
    "The Simple Recommender offers generalized recommendations to every user based on movie popularity and (sometimes) genre. The basic idea behind this recommender is that movies that are more popular and more critically acclaimed will have a higher probability of being liked by the average audience. This model does not give personalized recommendations based on the user.\n",
    "\n",
    "The implementation of this model is extremely trivial. All we have to do is sort our movies based on ratings and popularity and display the top movies of our list. As an added step, we can pass in a genre argument to get the top movies of a particular genre. "
   ]
  },
  {
   "cell_type": "code",
   "execution_count": 3,
   "metadata": {
    "_cell_guid": "0356d2a0-d8b2-4234-af78-bd51eaa3a390",
    "_uuid": "e0d62612bc9b9e9561afdc48fd1e75a9b0c82337"
   },
   "outputs": [
    {
     "data": {
      "text/html": [
       "<div>\n",
       "<style scoped>\n",
       "    .dataframe tbody tr th:only-of-type {\n",
       "        vertical-align: middle;\n",
       "    }\n",
       "\n",
       "    .dataframe tbody tr th {\n",
       "        vertical-align: top;\n",
       "    }\n",
       "\n",
       "    .dataframe thead th {\n",
       "        text-align: right;\n",
       "    }\n",
       "</style>\n",
       "<table border=\"1\" class=\"dataframe\">\n",
       "  <thead>\n",
       "    <tr style=\"text-align: right;\">\n",
       "      <th></th>\n",
       "      <th>id</th>\n",
       "      <th>title</th>\n",
       "      <th>release_date</th>\n",
       "      <th>genres</th>\n",
       "      <th>vote_count</th>\n",
       "      <th>vote_average</th>\n",
       "      <th>popularity</th>\n",
       "    </tr>\n",
       "  </thead>\n",
       "  <tbody>\n",
       "    <tr>\n",
       "      <th>0</th>\n",
       "      <td>862</td>\n",
       "      <td>Toy Story</td>\n",
       "      <td>1995-10-30</td>\n",
       "      <td>['Animation', 'Comedy', 'Family']</td>\n",
       "      <td>5415</td>\n",
       "      <td>7.7</td>\n",
       "      <td>21.946943</td>\n",
       "    </tr>\n",
       "    <tr>\n",
       "      <th>1</th>\n",
       "      <td>8844</td>\n",
       "      <td>Jumanji</td>\n",
       "      <td>1995-12-15</td>\n",
       "      <td>['Adventure', 'Fantasy', 'Family']</td>\n",
       "      <td>2413</td>\n",
       "      <td>6.9</td>\n",
       "      <td>17.015539</td>\n",
       "    </tr>\n",
       "    <tr>\n",
       "      <th>2</th>\n",
       "      <td>15602</td>\n",
       "      <td>Grumpier Old Men</td>\n",
       "      <td>1995-12-22</td>\n",
       "      <td>['Romance', 'Comedy']</td>\n",
       "      <td>92</td>\n",
       "      <td>6.5</td>\n",
       "      <td>11.712900</td>\n",
       "    </tr>\n",
       "    <tr>\n",
       "      <th>3</th>\n",
       "      <td>31357</td>\n",
       "      <td>Waiting to Exhale</td>\n",
       "      <td>1995-12-22</td>\n",
       "      <td>['Comedy', 'Drama', 'Romance']</td>\n",
       "      <td>34</td>\n",
       "      <td>6.1</td>\n",
       "      <td>3.859495</td>\n",
       "    </tr>\n",
       "    <tr>\n",
       "      <th>4</th>\n",
       "      <td>11862</td>\n",
       "      <td>Father of the Bride Part II</td>\n",
       "      <td>1995-02-10</td>\n",
       "      <td>['Comedy']</td>\n",
       "      <td>173</td>\n",
       "      <td>5.7</td>\n",
       "      <td>8.387519</td>\n",
       "    </tr>\n",
       "  </tbody>\n",
       "</table>\n",
       "</div>"
      ],
      "text/plain": [
       "      id                        title release_date  \\\n",
       "0    862                    Toy Story   1995-10-30   \n",
       "1   8844                      Jumanji   1995-12-15   \n",
       "2  15602             Grumpier Old Men   1995-12-22   \n",
       "3  31357            Waiting to Exhale   1995-12-22   \n",
       "4  11862  Father of the Bride Part II   1995-02-10   \n",
       "\n",
       "                               genres  vote_count  vote_average  popularity  \n",
       "0   ['Animation', 'Comedy', 'Family']        5415           7.7   21.946943  \n",
       "1  ['Adventure', 'Fantasy', 'Family']        2413           6.9   17.015539  \n",
       "2               ['Romance', 'Comedy']          92           6.5   11.712900  \n",
       "3      ['Comedy', 'Drama', 'Romance']          34           6.1    3.859495  \n",
       "4                          ['Comedy']         173           5.7    8.387519  "
      ]
     },
     "execution_count": 3,
     "metadata": {},
     "output_type": "execute_result"
    }
   ],
   "source": [
    "try:\n",
    "    md = pd.read_csv('../input/movies-data/metadata_small.csv', dtype=\n",
    "    {'id': int, 'vote_count': int, 'vote_averages': float})\n",
    "except FileNotFoundError:\n",
    "    cols = ['id', 'title', 'release_date', 'genres', 'vote_count',\n",
    "            'vote_average', 'popularity']\n",
    "    md = pd.read_csv('../input/the-movies-dataset/movies_metadata.csv',\n",
    "                     skiprows=[19731, 29504, 35588],  #skip error data\n",
    "                     usecols=cols)\n",
    "    #extract genres\n",
    "    md['genres'] = md['genres'].apply(lambda x: [i['name'] for i in literal_eval(x)])\n",
    "    md = md[md['title'].notnull()].astype({'vote_count': int})\n",
    "    md = md[cols]\n",
    "    md.to_csv('../input/movies-data/metadata_small.csv', index=False)\n",
    "\n",
    "md.head()"
   ]
  },
  {
   "cell_type": "markdown",
   "metadata": {
    "_cell_guid": "23cf39ba-ef09-4972-9d1f-ed91cb2ef134",
    "_uuid": "9571875d383f237f126febe9c76f966e2869fdc3",
    "pycharm": {
     "name": "#%% md\n"
    }
   },
   "source": [
    "I use the TMDB Ratings to come up with our **Top Movies Chart.** I will use IMDB's *weighted rating* formula to construct my chart. Mathematically, it is represented as follows:\n",
    "\n",
    "Weighted Rating (WR) = $(\\frac{v}{v + m} . R) + (\\frac{m}{v + m} . C)$\n",
    "\n",
    "where,\n",
    "* *v* is the number of votes for the movie\n",
    "* *m* is the minimum votes required to be listed in the chart\n",
    "* *R* is the average rating of the movie\n",
    "* *C* is the mean vote across the whole report\n",
    "\n",
    "The next step is to determine an appropriate value for *m*, the minimum votes required to be listed in the chart. We will use **95th percentile** as our cutoff. In other words, for a movie to feature in the charts, it must have more votes than at least 95% of the movies in the list.\n",
    "I will build our overall Top 250 Chart and will define a function to build charts for a particular genre. Let's begin!"
   ]
  },
  {
   "cell_type": "code",
   "execution_count": 4,
   "metadata": {
    "pycharm": {
     "name": "#%%\n"
    }
   },
   "outputs": [
    {
     "data": {
      "text/plain": [
       "(45460, 7)"
      ]
     },
     "execution_count": 4,
     "metadata": {},
     "output_type": "execute_result"
    }
   ],
   "source": [
    "md.shape"
   ]
  },
  {
   "cell_type": "code",
   "execution_count": 3,
   "metadata": {
    "_cell_guid": "de5d2a9a-9d67-4309-9256-844756318bd0",
    "_uuid": "1e732487caba09d9543f3da49cbe7ff5092e2675"
   },
   "outputs": [
    {
     "name": "stdout",
     "output_type": "stream",
     "text": [
      "C = 5.618207215134184\n",
      "m95 = 434.0\n"
     ]
    },
    {
     "data": {
      "text/plain": [
       "(2274, 7)"
      ]
     },
     "execution_count": 3,
     "metadata": {},
     "output_type": "execute_result"
    }
   ],
   "source": [
    "print(f\"C = {md['vote_average'].mean()}\")\n",
    "print(f\"m95 = {md['vote_count'].quantile(0.95)}\")\n",
    "md[md['vote_count'] >= 434].copy().shape"
   ]
  },
  {
   "cell_type": "markdown",
   "metadata": {
    "_cell_guid": "46efcb66-53a0-4f6a-b0df-92ba7b623143",
    "_uuid": "4c114ab330fc78c91953166d515a8e963ebc3238"
   },
   "source": [
    "Therefore, to qualify to be considered for the chart, a movie has to have at least **434 votes** on TMDB. We also see that the average rating for a movie on TMDB is **5.618** on a scale of 10. And **2274** Movies qualify to be on our chart."
   ]
  },
  {
   "cell_type": "code",
   "execution_count": 4,
   "metadata": {
    "_cell_guid": "db959c40-7618-4755-a05a-5347f9460929",
    "_uuid": "6414e1aa7ed8cb4184ec451f02a18cd187e5345e",
    "collapsed": true,
    "jupyter": {
     "outputs_hidden": true
    }
   },
   "outputs": [],
   "source": [
    "def weighted_rating(df, percentile=0.95):\n",
    "    C = df['vote_average'].mean()\n",
    "    m = df['vote_count'].quantile(percentile)\n",
    "    qualified = df[df['vote_count'] >= m].copy()\n",
    "    R = qualified['vote_average']\n",
    "    v = qualified['vote_count']\n",
    "    qualified['weighted_rating'] = (v / (v + m) * R) + (m / (m + v) * C)\n",
    "    qualified = qualified.sort_values('weighted_rating', ascending=False)\n",
    "    return qualified"
   ]
  },
  {
   "cell_type": "markdown",
   "metadata": {
    "_cell_guid": "36a1b9ac-aff3-4d80-9e19-83a45f282062",
    "_uuid": "75eb9e1de05386d229746785a25c6a5c6ee4b61a"
   },
   "source": [
    "### Top Movies"
   ]
  },
  {
   "cell_type": "code",
   "execution_count": 5,
   "metadata": {
    "_cell_guid": "0bca5b03-0835-4902-aaa1-beceb9d9d47f",
    "_uuid": "f7f6821b7e9aff099b81fcc425fd20109894b351",
    "pycharm": {
     "name": "#%%\n"
    }
   },
   "outputs": [
    {
     "data": {
      "text/html": [
       "<div>\n",
       "<style scoped>\n",
       "    .dataframe tbody tr th:only-of-type {\n",
       "        vertical-align: middle;\n",
       "    }\n",
       "\n",
       "    .dataframe tbody tr th {\n",
       "        vertical-align: top;\n",
       "    }\n",
       "\n",
       "    .dataframe thead th {\n",
       "        text-align: right;\n",
       "    }\n",
       "</style>\n",
       "<table border=\"1\" class=\"dataframe\">\n",
       "  <thead>\n",
       "    <tr style=\"text-align: right;\">\n",
       "      <th></th>\n",
       "      <th>id</th>\n",
       "      <th>title</th>\n",
       "      <th>release_date</th>\n",
       "      <th>genres</th>\n",
       "      <th>vote_count</th>\n",
       "      <th>vote_average</th>\n",
       "      <th>popularity</th>\n",
       "      <th>weighted_rating</th>\n",
       "    </tr>\n",
       "  </thead>\n",
       "  <tbody>\n",
       "    <tr>\n",
       "      <th>314</th>\n",
       "      <td>278</td>\n",
       "      <td>The Shawshank Redemption</td>\n",
       "      <td>1994-09-23</td>\n",
       "      <td>['Drama', 'Crime']</td>\n",
       "      <td>8358</td>\n",
       "      <td>8.5</td>\n",
       "      <td>51.645403</td>\n",
       "      <td>8.357746</td>\n",
       "    </tr>\n",
       "    <tr>\n",
       "      <th>834</th>\n",
       "      <td>238</td>\n",
       "      <td>The Godfather</td>\n",
       "      <td>1972-03-14</td>\n",
       "      <td>['Drama', 'Crime']</td>\n",
       "      <td>6024</td>\n",
       "      <td>8.5</td>\n",
       "      <td>41.109264</td>\n",
       "      <td>8.306334</td>\n",
       "    </tr>\n",
       "    <tr>\n",
       "      <th>12481</th>\n",
       "      <td>155</td>\n",
       "      <td>The Dark Knight</td>\n",
       "      <td>2008-07-16</td>\n",
       "      <td>['Drama', 'Action', 'Crime', 'Thriller']</td>\n",
       "      <td>12269</td>\n",
       "      <td>8.3</td>\n",
       "      <td>123.167259</td>\n",
       "      <td>8.208376</td>\n",
       "    </tr>\n",
       "    <tr>\n",
       "      <th>2843</th>\n",
       "      <td>550</td>\n",
       "      <td>Fight Club</td>\n",
       "      <td>1999-10-15</td>\n",
       "      <td>['Drama']</td>\n",
       "      <td>9678</td>\n",
       "      <td>8.3</td>\n",
       "      <td>63.869599</td>\n",
       "      <td>8.184899</td>\n",
       "    </tr>\n",
       "    <tr>\n",
       "      <th>292</th>\n",
       "      <td>680</td>\n",
       "      <td>Pulp Fiction</td>\n",
       "      <td>1994-09-10</td>\n",
       "      <td>['Thriller', 'Crime']</td>\n",
       "      <td>8670</td>\n",
       "      <td>8.3</td>\n",
       "      <td>140.950236</td>\n",
       "      <td>8.172155</td>\n",
       "    </tr>\n",
       "    <tr>\n",
       "      <th>351</th>\n",
       "      <td>13</td>\n",
       "      <td>Forrest Gump</td>\n",
       "      <td>1994-07-06</td>\n",
       "      <td>['Comedy', 'Drama', 'Romance']</td>\n",
       "      <td>8147</td>\n",
       "      <td>8.2</td>\n",
       "      <td>48.307194</td>\n",
       "      <td>8.069421</td>\n",
       "    </tr>\n",
       "    <tr>\n",
       "      <th>522</th>\n",
       "      <td>424</td>\n",
       "      <td>Schindler's List</td>\n",
       "      <td>1993-11-29</td>\n",
       "      <td>['Drama', 'History', 'War']</td>\n",
       "      <td>4436</td>\n",
       "      <td>8.3</td>\n",
       "      <td>41.725123</td>\n",
       "      <td>8.061007</td>\n",
       "    </tr>\n",
       "    <tr>\n",
       "      <th>23671</th>\n",
       "      <td>244786</td>\n",
       "      <td>Whiplash</td>\n",
       "      <td>2014-10-10</td>\n",
       "      <td>['Drama']</td>\n",
       "      <td>4376</td>\n",
       "      <td>8.3</td>\n",
       "      <td>64.299990</td>\n",
       "      <td>8.058025</td>\n",
       "    </tr>\n",
       "    <tr>\n",
       "      <th>5481</th>\n",
       "      <td>129</td>\n",
       "      <td>Spirited Away</td>\n",
       "      <td>2001-07-20</td>\n",
       "      <td>['Fantasy', 'Adventure', 'Animation', 'Family']</td>\n",
       "      <td>3968</td>\n",
       "      <td>8.3</td>\n",
       "      <td>41.048867</td>\n",
       "      <td>8.035598</td>\n",
       "    </tr>\n",
       "    <tr>\n",
       "      <th>1154</th>\n",
       "      <td>1891</td>\n",
       "      <td>The Empire Strikes Back</td>\n",
       "      <td>1980-05-17</td>\n",
       "      <td>['Adventure', 'Action', 'Science Fiction']</td>\n",
       "      <td>5998</td>\n",
       "      <td>8.2</td>\n",
       "      <td>19.470959</td>\n",
       "      <td>8.025793</td>\n",
       "    </tr>\n",
       "  </tbody>\n",
       "</table>\n",
       "</div>"
      ],
      "text/plain": [
       "           id                     title release_date  \\\n",
       "314       278  The Shawshank Redemption   1994-09-23   \n",
       "834       238             The Godfather   1972-03-14   \n",
       "12481     155           The Dark Knight   2008-07-16   \n",
       "2843      550                Fight Club   1999-10-15   \n",
       "292       680              Pulp Fiction   1994-09-10   \n",
       "351        13              Forrest Gump   1994-07-06   \n",
       "522       424          Schindler's List   1993-11-29   \n",
       "23671  244786                  Whiplash   2014-10-10   \n",
       "5481      129             Spirited Away   2001-07-20   \n",
       "1154     1891   The Empire Strikes Back   1980-05-17   \n",
       "\n",
       "                                                genres  vote_count  \\\n",
       "314                                 ['Drama', 'Crime']        8358   \n",
       "834                                 ['Drama', 'Crime']        6024   \n",
       "12481         ['Drama', 'Action', 'Crime', 'Thriller']       12269   \n",
       "2843                                         ['Drama']        9678   \n",
       "292                              ['Thriller', 'Crime']        8670   \n",
       "351                     ['Comedy', 'Drama', 'Romance']        8147   \n",
       "522                        ['Drama', 'History', 'War']        4436   \n",
       "23671                                        ['Drama']        4376   \n",
       "5481   ['Fantasy', 'Adventure', 'Animation', 'Family']        3968   \n",
       "1154        ['Adventure', 'Action', 'Science Fiction']        5998   \n",
       "\n",
       "       vote_average  popularity  weighted_rating  \n",
       "314             8.5   51.645403         8.357746  \n",
       "834             8.5   41.109264         8.306334  \n",
       "12481           8.3  123.167259         8.208376  \n",
       "2843            8.3   63.869599         8.184899  \n",
       "292             8.3  140.950236         8.172155  \n",
       "351             8.2   48.307194         8.069421  \n",
       "522             8.3   41.725123         8.061007  \n",
       "23671           8.3   64.299990         8.058025  \n",
       "5481            8.3   41.048867         8.035598  \n",
       "1154            8.2   19.470959         8.025793  "
      ]
     },
     "execution_count": 5,
     "metadata": {},
     "output_type": "execute_result"
    }
   ],
   "source": [
    "weighted_rating(md).head(10)"
   ]
  },
  {
   "cell_type": "markdown",
   "metadata": {
    "_cell_guid": "0942cc17-4e7c-4293-be59-0993261af6e3",
    "_uuid": "dd0636ab9235cef9afab293696b5c57521cc28b9"
   },
   "source": [
    "We see that three Crime Drama, **The Shawshank Redemption**, **The Godfather** and **The Dark Knight** occur at the very top of our chart. The chart also indicates a strong bias of TMDB Users towards particular genres and directors.\n",
    "\n",
    "Let us now construct our function that builds charts for particular genres. For this, we will use relax our default conditions to the **85** percentile instead of 95."
   ]
  },
  {
   "cell_type": "code",
   "execution_count": 6,
   "metadata": {
    "_cell_guid": "759652cb-5b16-4951-995c-6a3bdbae0e4e",
    "_uuid": "1fdfea9cd4b046b11ff8f2ac4f2bea74fccb8a8b",
    "collapsed": true,
    "jupyter": {
     "outputs_hidden": true
    }
   },
   "outputs": [],
   "source": [
    "def build_chart(genre, percentile=0.85):\n",
    "    df = md[md.genres.apply(lambda x: genre in x)]\n",
    "    return weighted_rating(df, percentile)"
   ]
  },
  {
   "cell_type": "markdown",
   "metadata": {
    "_cell_guid": "55f22de0-0df9-405a-9197-df5a8c0e8466",
    "_uuid": "a76ce0f8a8f614aa6f23cb9a6e0fd6af6d048642"
   },
   "source": [
    "Let us see our method in action by displaying the Top 10 Romance Movies (Romance almost didn't feature at all in our Generic Top Chart despite  being one of the most popular movie genres).\n",
    "### Top Romance Movies"
   ]
  },
  {
   "cell_type": "code",
   "execution_count": 7,
   "metadata": {
    "_cell_guid": "af61da24-494b-48ac-b7b7-64ec0eaedaf8",
    "_uuid": "bf2816495a16de1bb84dc826fd33eee7e663f45d"
   },
   "outputs": [
    {
     "data": {
      "text/html": [
       "<div>\n",
       "<style scoped>\n",
       "    .dataframe tbody tr th:only-of-type {\n",
       "        vertical-align: middle;\n",
       "    }\n",
       "\n",
       "    .dataframe tbody tr th {\n",
       "        vertical-align: top;\n",
       "    }\n",
       "\n",
       "    .dataframe thead th {\n",
       "        text-align: right;\n",
       "    }\n",
       "</style>\n",
       "<table border=\"1\" class=\"dataframe\">\n",
       "  <thead>\n",
       "    <tr style=\"text-align: right;\">\n",
       "      <th></th>\n",
       "      <th>id</th>\n",
       "      <th>title</th>\n",
       "      <th>release_date</th>\n",
       "      <th>genres</th>\n",
       "      <th>vote_count</th>\n",
       "      <th>vote_average</th>\n",
       "      <th>popularity</th>\n",
       "      <th>weighted_rating</th>\n",
       "    </tr>\n",
       "  </thead>\n",
       "  <tbody>\n",
       "    <tr>\n",
       "      <th>10309</th>\n",
       "      <td>19404</td>\n",
       "      <td>Dilwale Dulhania Le Jayenge</td>\n",
       "      <td>1995-10-20</td>\n",
       "      <td>['Comedy', 'Drama', 'Romance']</td>\n",
       "      <td>661</td>\n",
       "      <td>9.1</td>\n",
       "      <td>34.457024</td>\n",
       "      <td>8.701372</td>\n",
       "    </tr>\n",
       "    <tr>\n",
       "      <th>40245</th>\n",
       "      <td>372058</td>\n",
       "      <td>Your Name.</td>\n",
       "      <td>2016-08-26</td>\n",
       "      <td>['Romance', 'Animation', 'Drama']</td>\n",
       "      <td>1030</td>\n",
       "      <td>8.5</td>\n",
       "      <td>34.461252</td>\n",
       "      <td>8.281258</td>\n",
       "    </tr>\n",
       "    <tr>\n",
       "      <th>351</th>\n",
       "      <td>13</td>\n",
       "      <td>Forrest Gump</td>\n",
       "      <td>1994-07-06</td>\n",
       "      <td>['Comedy', 'Drama', 'Romance']</td>\n",
       "      <td>8147</td>\n",
       "      <td>8.2</td>\n",
       "      <td>48.307194</td>\n",
       "      <td>8.173547</td>\n",
       "    </tr>\n",
       "    <tr>\n",
       "      <th>1132</th>\n",
       "      <td>11216</td>\n",
       "      <td>Cinema Paradiso</td>\n",
       "      <td>1988-11-17</td>\n",
       "      <td>['Drama', 'Romance']</td>\n",
       "      <td>834</td>\n",
       "      <td>8.2</td>\n",
       "      <td>14.177005</td>\n",
       "      <td>7.964387</td>\n",
       "    </tr>\n",
       "    <tr>\n",
       "      <th>40876</th>\n",
       "      <td>313369</td>\n",
       "      <td>La La Land</td>\n",
       "      <td>2016-11-29</td>\n",
       "      <td>['Comedy', 'Drama', 'Music', 'Romance']</td>\n",
       "      <td>4745</td>\n",
       "      <td>7.9</td>\n",
       "      <td>19.681686</td>\n",
       "      <td>7.860576</td>\n",
       "    </tr>\n",
       "    <tr>\n",
       "      <th>22166</th>\n",
       "      <td>152601</td>\n",
       "      <td>Her</td>\n",
       "      <td>2013-12-18</td>\n",
       "      <td>['Romance', 'Science Fiction', 'Drama']</td>\n",
       "      <td>4215</td>\n",
       "      <td>7.9</td>\n",
       "      <td>13.829515</td>\n",
       "      <td>7.855724</td>\n",
       "    </tr>\n",
       "    <tr>\n",
       "      <th>7208</th>\n",
       "      <td>38</td>\n",
       "      <td>Eternal Sunshine of the Spotless Mind</td>\n",
       "      <td>2004-03-19</td>\n",
       "      <td>['Science Fiction', 'Drama', 'Romance']</td>\n",
       "      <td>3758</td>\n",
       "      <td>7.9</td>\n",
       "      <td>12.906327</td>\n",
       "      <td>7.850467</td>\n",
       "    </tr>\n",
       "    <tr>\n",
       "      <th>876</th>\n",
       "      <td>426</td>\n",
       "      <td>Vertigo</td>\n",
       "      <td>1958-05-09</td>\n",
       "      <td>['Mystery', 'Romance', 'Thriller']</td>\n",
       "      <td>1162</td>\n",
       "      <td>8.0</td>\n",
       "      <td>18.208220</td>\n",
       "      <td>7.840579</td>\n",
       "    </tr>\n",
       "    <tr>\n",
       "      <th>3189</th>\n",
       "      <td>901</td>\n",
       "      <td>City Lights</td>\n",
       "      <td>1931-01-30</td>\n",
       "      <td>['Comedy', 'Drama', 'Romance']</td>\n",
       "      <td>444</td>\n",
       "      <td>8.2</td>\n",
       "      <td>10.891524</td>\n",
       "      <td>7.792600</td>\n",
       "    </tr>\n",
       "    <tr>\n",
       "      <th>15530</th>\n",
       "      <td>31011</td>\n",
       "      <td>Mr. Nobody</td>\n",
       "      <td>2009-09-11</td>\n",
       "      <td>['Science Fiction', 'Drama', 'Romance', 'Fanta...</td>\n",
       "      <td>1616</td>\n",
       "      <td>7.9</td>\n",
       "      <td>11.817059</td>\n",
       "      <td>7.788307</td>\n",
       "    </tr>\n",
       "  </tbody>\n",
       "</table>\n",
       "</div>"
      ],
      "text/plain": [
       "           id                                  title release_date  \\\n",
       "10309   19404            Dilwale Dulhania Le Jayenge   1995-10-20   \n",
       "40245  372058                             Your Name.   2016-08-26   \n",
       "351        13                           Forrest Gump   1994-07-06   \n",
       "1132    11216                        Cinema Paradiso   1988-11-17   \n",
       "40876  313369                             La La Land   2016-11-29   \n",
       "22166  152601                                    Her   2013-12-18   \n",
       "7208       38  Eternal Sunshine of the Spotless Mind   2004-03-19   \n",
       "876       426                                Vertigo   1958-05-09   \n",
       "3189      901                            City Lights   1931-01-30   \n",
       "15530   31011                             Mr. Nobody   2009-09-11   \n",
       "\n",
       "                                                  genres  vote_count  \\\n",
       "10309                     ['Comedy', 'Drama', 'Romance']         661   \n",
       "40245                  ['Romance', 'Animation', 'Drama']        1030   \n",
       "351                       ['Comedy', 'Drama', 'Romance']        8147   \n",
       "1132                                ['Drama', 'Romance']         834   \n",
       "40876            ['Comedy', 'Drama', 'Music', 'Romance']        4745   \n",
       "22166            ['Romance', 'Science Fiction', 'Drama']        4215   \n",
       "7208             ['Science Fiction', 'Drama', 'Romance']        3758   \n",
       "876                   ['Mystery', 'Romance', 'Thriller']        1162   \n",
       "3189                      ['Comedy', 'Drama', 'Romance']         444   \n",
       "15530  ['Science Fiction', 'Drama', 'Romance', 'Fanta...        1616   \n",
       "\n",
       "       vote_average  popularity  weighted_rating  \n",
       "10309           9.1   34.457024         8.701372  \n",
       "40245           8.5   34.461252         8.281258  \n",
       "351             8.2   48.307194         8.173547  \n",
       "1132            8.2   14.177005         7.964387  \n",
       "40876           7.9   19.681686         7.860576  \n",
       "22166           7.9   13.829515         7.855724  \n",
       "7208            7.9   12.906327         7.850467  \n",
       "876             8.0   18.208220         7.840579  \n",
       "3189            8.2   10.891524         7.792600  \n",
       "15530           7.9   11.817059         7.788307  "
      ]
     },
     "execution_count": 7,
     "metadata": {},
     "output_type": "execute_result"
    }
   ],
   "source": [
    "build_chart('Romance').head(10)"
   ]
  },
  {
   "cell_type": "markdown",
   "metadata": {
    "_cell_guid": "b14398c0-cf96-42ec-a12e-84d98231512a",
    "_uuid": "8ffeb5a436b6df369c408c20ba2d6d2b6bfee61b"
   },
   "source": [
    "The top romance movie according to our metrics is Bollywood's **Dilwale Dulhania Le Jayenge**. This Shahrukh Khan starrer also happens to be one of my personal favorites."
   ]
  },
  {
   "cell_type": "markdown",
   "metadata": {
    "_cell_guid": "b6e1eb8b-6109-40ff-ab8a-37bd047c03ac",
    "_uuid": "0b0f95bdf966d06c2d7053535d46183b03a75cc1"
   },
   "source": [
    "## Content Based Recommender\n",
    "\n",
    "The recommender we built in the previous section suffers some severe limitations. For one, it gives the same recommendation to everyone, regardless of the user's personal taste. If a person who loves romantic movies (and hates action) were to look at our Top 15 Chart, s/he wouldn't probably like most of the movies. If s/he were to go one step further and look at our charts by genre, s/he wouldn't still be getting the best recommendations.\n",
    "\n",
    "For instance, consider a person who loves *Dilwale Dulhania Le Jayenge*, *My Name is Khan* and *Kabhi Khushi Kabhi Gham*. One inference we can obtain is that the person loves the actor Shahrukh Khan and the director Karan Johar. Even if s/he were to access the romance chart, s/he wouldn't find these as the top recommendations.\n",
    "\n",
    "To personalise our recommendations more, I am going to build an engine that computes similarity between movies based on certain metrics and suggests movies that are most similar to a particular movie that a user liked. Since we will be using movie metadata (or content) to build this engine, this also known as **Content Based Filtering.**\n",
    "\n",
    "I will build two Content Based Recommenders based on:\n",
    "* Movie Overviews and Taglines\n",
    "* Movie Cast, Crew, Keywords and Genre\n",
    "\n",
    "Also, as mentioned in the introduction, I will be using a subset of all the movies available to us due to limiting computing power available to me. "
   ]
  },
  {
   "cell_type": "code",
   "execution_count": 8,
   "metadata": {
    "_cell_guid": "bd5f4440-f90d-46a4-8640-204541d99d40",
    "_uuid": "dc237e14c8346bdd51624d21b6b082399afd3062",
    "collapsed": true,
    "jupyter": {
     "outputs_hidden": true
    }
   },
   "outputs": [
    {
     "data": {
      "text/plain": [
       "(9082, 3)"
      ]
     },
     "execution_count": 8,
     "metadata": {},
     "output_type": "execute_result"
    }
   ],
   "source": [
    "try:  #small_movies_data\n",
    "    smd = pd.read_csv('../input/movies-data/description.csv')\n",
    "except FileNotFoundError:\n",
    "    md = pd.read_csv('../input/the-movies-dataset/movies_metadata.csv',\n",
    "                     skiprows=[19731, 29504, 35588],  #skip error data\n",
    "                     dtype={'id': int},\n",
    "                     usecols=['title', 'id', 'overview', 'tagline'])\n",
    "    links_small = pd.read_csv('../input/the-movies-dataset/links_small.csv')['tmdbId']\n",
    "    links_small = links_small.dropna().astype(int)\n",
    "    smd = md[md['id'].isin(links_small)].copy()\n",
    "    smd['description'] = smd['overview'].fillna('') + ' ' + smd['tagline'].fillna('')\n",
    "    smd = smd[['id', 'title', 'description']].drop_duplicates()\n",
    "    smd.to_csv('../input/movies-data/description.csv', index=False)\n",
    "    smd = smd.reset_index(drop=True)\n",
    "\n",
    "smd.shape"
   ]
  },
  {
   "cell_type": "markdown",
   "metadata": {
    "_cell_guid": "0f9e6043-68e8-4b0c-a435-e456e19e9144",
    "_uuid": "1ebd72fcc46ac2ac20016ff34dad40a9f8879ac9"
   },
   "source": [
    "\n",
    "We have **9082** movies available in our small movies' metadata dataset which is 5 times smaller than our original dataset of 45000 movies."
   ]
  },
  {
   "cell_type": "markdown",
   "metadata": {
    "_cell_guid": "1e73645a-0b0b-441f-93b4-ce92069e1852",
    "_uuid": "c41800b7a9d8b8d48ba1c22b8430929f54e9884e"
   },
   "source": [
    "### Movie Description Based Recommender\n",
    "\n",
    "Let us first try to build a recommender using movie descriptions and taglines. We do not have a quantitative metric to judge our machine's performance so this will have to be done qualitatively."
   ]
  },
  {
   "cell_type": "code",
   "execution_count": 9,
   "metadata": {
    "_cell_guid": "c880adf9-051b-40cd-8e95-cd8c4acabb17",
    "_uuid": "453bdc941ba5a1e86e17b0f106dc44040c0defdf",
    "collapsed": true,
    "jupyter": {
     "outputs_hidden": true
    }
   },
   "outputs": [],
   "source": [
    "smd['description'] = smd['description'].fillna('')\n",
    "tf = TfidfVectorizer(ngram_range=(1, 2), min_df=0, stop_words='english')"
   ]
  },
  {
   "cell_type": "markdown",
   "metadata": {
    "pycharm": {
     "name": "#%% md\n"
    }
   },
   "source": [
    "#### TF-IDF\n",
    "\n",
    "$tf$ is nature\n",
    "$idf = \\ln {\\frac{1+n}{1+df(t)}}+1 $\n",
    "Then normalize to unit vector"
   ]
  },
  {
   "cell_type": "code",
   "execution_count": 10,
   "metadata": {
    "pycharm": {
     "name": "#%%\n"
    }
   },
   "outputs": [
    {
     "data": {
      "text/plain": [
       "(9082, 267952)"
      ]
     },
     "execution_count": 10,
     "metadata": {},
     "output_type": "execute_result"
    }
   ],
   "source": [
    "tfidf_matrix = tf.fit_transform(smd['description'])\n",
    "tfidf_matrix.shape"
   ]
  },
  {
   "cell_type": "markdown",
   "metadata": {
    "_cell_guid": "7d4db389-9f30-46e9-b8af-69fe9b40ada5",
    "_uuid": "1a98e05af67de3475999e1891d965ce9f73ce316"
   },
   "source": [
    "#### Cosine Similarity\n",
    "\n",
    "I will be using the Cosine Similarity to calculate a numeric quantity that denotes the similarity between two movies. Mathematically, it is defined as follows:\n",
    "\n",
    "$cosine(x,y) = \\frac{x. y^\\intercal}{||x||.||y||} $\n",
    "\n",
    "Since we have used the TF-IDF Vectorizer, calculating the Dot Product will directly give us the Cosine Similarity Score. Therefore, we will use sklearn's **linear_kernel** instead of cosine_similarities since it is much faster."
   ]
  },
  {
   "cell_type": "code",
   "execution_count": 11,
   "metadata": {
    "_cell_guid": "8b27b34f-a585-42bf-b35f-1de4e9181fce",
    "_uuid": "e324c0e951287359f7810a3da85631ebc7725c53",
    "collapsed": true,
    "jupyter": {
     "outputs_hidden": true
    }
   },
   "outputs": [
    {
     "data": {
      "text/plain": [
       "array([[1.        , 0.00680302, 0.        , ..., 0.        , 0.        ,\n",
       "        0.00477808],\n",
       "       [0.00680302, 1.        , 0.01530688, ..., 0.        , 0.00175214,\n",
       "        0.00367921],\n",
       "       [0.        , 0.01530688, 1.        , ..., 0.00192587, 0.00221235,\n",
       "        0.        ],\n",
       "       ...,\n",
       "       [0.        , 0.        , 0.00192587, ..., 1.        , 0.        ,\n",
       "        0.        ],\n",
       "       [0.        , 0.00175214, 0.00221235, ..., 0.        , 1.        ,\n",
       "        0.00146392],\n",
       "       [0.00477808, 0.00367921, 0.        , ..., 0.        , 0.00146392,\n",
       "        1.        ]])"
      ]
     },
     "execution_count": 11,
     "metadata": {},
     "output_type": "execute_result"
    }
   ],
   "source": [
    "cosine_sim = linear_kernel(tfidf_matrix)\n",
    "cosine_sim"
   ]
  },
  {
   "cell_type": "markdown",
   "metadata": {
    "_cell_guid": "f4001114-a1c6-4762-b0cf-64eb4f2658ac",
    "_uuid": "b7a65051edc24edfe6e2afaf3a9c3a148af5bcaf"
   },
   "source": [
    "We now have a pairwise cosine similarity matrix for all the movies in our dataset. The next step is to write a function that returns the 30 most similar movies based on the cosine similarity score.\n"
   ]
  },
  {
   "cell_type": "code",
   "execution_count": 12,
   "metadata": {
    "_cell_guid": "d7352ae7-fbc3-4459-b257-76a44000ce6a",
    "_uuid": "62f49212a8b935ef63a3643e1bb6f629521f05b7",
    "collapsed": true,
    "jupyter": {
     "outputs_hidden": true
    }
   },
   "outputs": [],
   "source": [
    "def recommend(title):\n",
    "    movie = smd[smd['title'] == title]\n",
    "    if len(movie) > 1:\n",
    "        print(\"There are duplications of same name. Choose index and use get_recommendations(idx)\")\n",
    "        print(movie)\n",
    "    else:\n",
    "        indexes = get_recommendations(movie.index[0])\n",
    "        recommend_movies = smd.iloc[indexes]\n",
    "        return recommend_movies[1:].set_index('id')\n",
    "\n",
    "\n",
    "def get_recommendations(idx):\n",
    "    # return movies index which similarity score bigger than 0.01\n",
    "    sim_scores = list(enumerate(cosine_sim[idx]))\n",
    "    sim_scores = sorted(sim_scores, key=lambda x: x[1], reverse=True)\n",
    "    return [i[0] for i in sim_scores if i[1] > 0.01]"
   ]
  },
  {
   "cell_type": "markdown",
   "metadata": {
    "_cell_guid": "e8c1e16a-a1ab-4cae-916b-dcdc2ebaf9a9",
    "_uuid": "8960b80c95e09e6b4e328872efebd2e4ee711df2"
   },
   "source": [
    "We're all set. Let us now try and get the top recommendations for a few movies and see how good the recommendations are."
   ]
  },
  {
   "cell_type": "code",
   "execution_count": 13,
   "metadata": {
    "_cell_guid": "73bb1266-5797-47ce-b61f-fa9e0d7ce077",
    "_uuid": "46f418fd12b35e86a7a2026ef1975be822cadde3"
   },
   "outputs": [
    {
     "data": {
      "text/html": [
       "<div>\n",
       "<style scoped>\n",
       "    .dataframe tbody tr th:only-of-type {\n",
       "        vertical-align: middle;\n",
       "    }\n",
       "\n",
       "    .dataframe tbody tr th {\n",
       "        vertical-align: top;\n",
       "    }\n",
       "\n",
       "    .dataframe thead th {\n",
       "        text-align: right;\n",
       "    }\n",
       "</style>\n",
       "<table border=\"1\" class=\"dataframe\">\n",
       "  <thead>\n",
       "    <tr style=\"text-align: right;\">\n",
       "      <th></th>\n",
       "      <th>title</th>\n",
       "      <th>description</th>\n",
       "    </tr>\n",
       "    <tr>\n",
       "      <th>id</th>\n",
       "      <th></th>\n",
       "      <th></th>\n",
       "    </tr>\n",
       "  </thead>\n",
       "  <tbody>\n",
       "    <tr>\n",
       "      <th>240</th>\n",
       "      <td>The Godfather: Part II</td>\n",
       "      <td>In the continuing saga of the Corleone crime f...</td>\n",
       "    </tr>\n",
       "    <tr>\n",
       "      <th>112205</th>\n",
       "      <td>The Family</td>\n",
       "      <td>The Manzoni family, a notorious mafia clan, is...</td>\n",
       "    </tr>\n",
       "    <tr>\n",
       "      <th>15745</th>\n",
       "      <td>Made</td>\n",
       "      <td>Two aspiring boxers lifelong friends get invol...</td>\n",
       "    </tr>\n",
       "    <tr>\n",
       "      <th>16806</th>\n",
       "      <td>Johnny Dangerously</td>\n",
       "      <td>Set in the 1930s, an honest, goodhearted man i...</td>\n",
       "    </tr>\n",
       "    <tr>\n",
       "      <th>37557</th>\n",
       "      <td>Shanghai Triad</td>\n",
       "      <td>A provincial boy related to a Shanghai crime f...</td>\n",
       "    </tr>\n",
       "    <tr>\n",
       "      <th>14615</th>\n",
       "      <td>Fury</td>\n",
       "      <td>When a prisoner barely survives a lynch mob at...</td>\n",
       "    </tr>\n",
       "    <tr>\n",
       "      <th>14242</th>\n",
       "      <td>American Movie</td>\n",
       "      <td>AMERICAN MOVIE is the story of filmmaker Mark ...</td>\n",
       "    </tr>\n",
       "    <tr>\n",
       "      <th>242</th>\n",
       "      <td>The Godfather: Part III</td>\n",
       "      <td>In the midst of trying to legitimize his busin...</td>\n",
       "    </tr>\n",
       "    <tr>\n",
       "      <th>1958</th>\n",
       "      <td>8 Women</td>\n",
       "      <td>Eight women gather to celebrate Christmas in a...</td>\n",
       "    </tr>\n",
       "    <tr>\n",
       "      <th>10279</th>\n",
       "      <td>Summer of Sam</td>\n",
       "      <td>Spike Lee's take on the \"Son of Sam\" murders i...</td>\n",
       "    </tr>\n",
       "  </tbody>\n",
       "</table>\n",
       "</div>"
      ],
      "text/plain": [
       "                          title  \\\n",
       "id                                \n",
       "240      The Godfather: Part II   \n",
       "112205               The Family   \n",
       "15745                      Made   \n",
       "16806        Johnny Dangerously   \n",
       "37557            Shanghai Triad   \n",
       "14615                      Fury   \n",
       "14242            American Movie   \n",
       "242     The Godfather: Part III   \n",
       "1958                    8 Women   \n",
       "10279             Summer of Sam   \n",
       "\n",
       "                                              description  \n",
       "id                                                         \n",
       "240     In the continuing saga of the Corleone crime f...  \n",
       "112205  The Manzoni family, a notorious mafia clan, is...  \n",
       "15745   Two aspiring boxers lifelong friends get invol...  \n",
       "16806   Set in the 1930s, an honest, goodhearted man i...  \n",
       "37557   A provincial boy related to a Shanghai crime f...  \n",
       "14615   When a prisoner barely survives a lynch mob at...  \n",
       "14242   AMERICAN MOVIE is the story of filmmaker Mark ...  \n",
       "242     In the midst of trying to legitimize his busin...  \n",
       "1958    Eight women gather to celebrate Christmas in a...  \n",
       "10279   Spike Lee's take on the \"Son of Sam\" murders i...  "
      ]
     },
     "execution_count": 13,
     "metadata": {},
     "output_type": "execute_result"
    }
   ],
   "source": [
    "recommend('The Godfather').head(10)"
   ]
  },
  {
   "cell_type": "code",
   "execution_count": 14,
   "metadata": {
    "_cell_guid": "d074112e-79ea-4188-a1e0-addd9bed3c91",
    "_uuid": "f92e310b0225b4a1b8b46e8a87fe2f2b82c158ed"
   },
   "outputs": [
    {
     "data": {
      "text/html": [
       "<div>\n",
       "<style scoped>\n",
       "    .dataframe tbody tr th:only-of-type {\n",
       "        vertical-align: middle;\n",
       "    }\n",
       "\n",
       "    .dataframe tbody tr th {\n",
       "        vertical-align: top;\n",
       "    }\n",
       "\n",
       "    .dataframe thead th {\n",
       "        text-align: right;\n",
       "    }\n",
       "</style>\n",
       "<table border=\"1\" class=\"dataframe\">\n",
       "  <thead>\n",
       "    <tr style=\"text-align: right;\">\n",
       "      <th></th>\n",
       "      <th>title</th>\n",
       "      <th>description</th>\n",
       "    </tr>\n",
       "    <tr>\n",
       "      <th>id</th>\n",
       "      <th></th>\n",
       "      <th></th>\n",
       "    </tr>\n",
       "  </thead>\n",
       "  <tbody>\n",
       "    <tr>\n",
       "      <th>49026</th>\n",
       "      <td>The Dark Knight Rises</td>\n",
       "      <td>Following the death of District Attorney Harve...</td>\n",
       "    </tr>\n",
       "    <tr>\n",
       "      <th>414</th>\n",
       "      <td>Batman Forever</td>\n",
       "      <td>The Dark Knight of Gotham City confronts a das...</td>\n",
       "    </tr>\n",
       "    <tr>\n",
       "      <th>364</th>\n",
       "      <td>Batman Returns</td>\n",
       "      <td>Having defeated the Joker, Batman now faces th...</td>\n",
       "    </tr>\n",
       "    <tr>\n",
       "      <th>142061</th>\n",
       "      <td>Batman: The Dark Knight Returns, Part 2</td>\n",
       "      <td>Batman has stopped the reign of terror that Th...</td>\n",
       "    </tr>\n",
       "    <tr>\n",
       "      <th>40662</th>\n",
       "      <td>Batman: Under the Red Hood</td>\n",
       "      <td>Batman faces his ultimate challenge as the mys...</td>\n",
       "    </tr>\n",
       "    <tr>\n",
       "      <th>268</th>\n",
       "      <td>Batman</td>\n",
       "      <td>The Dark Knight of Gotham City begins his war ...</td>\n",
       "    </tr>\n",
       "    <tr>\n",
       "      <th>69735</th>\n",
       "      <td>Batman: Year One</td>\n",
       "      <td>Two men come to Gotham City: Bruce Wayne after...</td>\n",
       "    </tr>\n",
       "    <tr>\n",
       "      <th>14919</th>\n",
       "      <td>Batman: Mask of the Phantasm</td>\n",
       "      <td>An old flame of Bruce Wayne's strolls into tow...</td>\n",
       "    </tr>\n",
       "    <tr>\n",
       "      <th>820</th>\n",
       "      <td>JFK</td>\n",
       "      <td>New Orleans District Attorney Jim Garrison dis...</td>\n",
       "    </tr>\n",
       "    <tr>\n",
       "      <th>123025</th>\n",
       "      <td>Batman: The Dark Knight Returns, Part 1</td>\n",
       "      <td>Batman has not been seen for ten years. A new ...</td>\n",
       "    </tr>\n",
       "  </tbody>\n",
       "</table>\n",
       "</div>"
      ],
      "text/plain": [
       "                                          title  \\\n",
       "id                                                \n",
       "49026                     The Dark Knight Rises   \n",
       "414                              Batman Forever   \n",
       "364                              Batman Returns   \n",
       "142061  Batman: The Dark Knight Returns, Part 2   \n",
       "40662                Batman: Under the Red Hood   \n",
       "268                                      Batman   \n",
       "69735                          Batman: Year One   \n",
       "14919              Batman: Mask of the Phantasm   \n",
       "820                                         JFK   \n",
       "123025  Batman: The Dark Knight Returns, Part 1   \n",
       "\n",
       "                                              description  \n",
       "id                                                         \n",
       "49026   Following the death of District Attorney Harve...  \n",
       "414     The Dark Knight of Gotham City confronts a das...  \n",
       "364     Having defeated the Joker, Batman now faces th...  \n",
       "142061  Batman has stopped the reign of terror that Th...  \n",
       "40662   Batman faces his ultimate challenge as the mys...  \n",
       "268     The Dark Knight of Gotham City begins his war ...  \n",
       "69735   Two men come to Gotham City: Bruce Wayne after...  \n",
       "14919   An old flame of Bruce Wayne's strolls into tow...  \n",
       "820     New Orleans District Attorney Jim Garrison dis...  \n",
       "123025  Batman has not been seen for ten years. A new ...  "
      ]
     },
     "execution_count": 14,
     "metadata": {},
     "output_type": "execute_result"
    }
   ],
   "source": [
    "recommend('The Dark Knight').head(10)"
   ]
  },
  {
   "cell_type": "markdown",
   "metadata": {
    "_cell_guid": "a9fd334d-e890-4125-9d48-b79babd194d2",
    "_uuid": "f38218c5d4f07d6d9439adbab468c51430157103"
   },
   "source": [
    "We see that for **The Dark Knight**, our system is able to identify it as a Batman film and subsequently recommend other Batman films as its top recommendations. But unfortunately, that is all this system can do at the moment. This is not of much use to most people as it doesn't take into considerations very important features such as cast, crew, director and genre, which determine the rating and the popularity of a movie. Someone who liked **The Dark Knight** probably likes it more because of Nolan and would hate **Batman Forever** and every other substandard movie in the Batman Franchise.\n",
    "\n",
    "Therefore, we are going to use much more suggestive metadata than **Overview** and **Tagline**. In the next subsection, we will build a more sophisticated recommender that takes **genre**, **keywords**, **cast** and **crew** into consideration."
   ]
  },
  {
   "cell_type": "markdown",
   "metadata": {
    "_cell_guid": "3a0dd8ba-a580-4c12-95eb-ca04e2191b35",
    "_uuid": "4089c7bcdf984e596e80d2fc6c2a74fe8c05a41f"
   },
   "source": [
    "### Metadata Based Recommender\n",
    "\n",
    "To build our standard metadata based content recommender, we will need to merge our current dataset with the crew and the keyword datasets. Let us prepare this data as our first step."
   ]
  },
  {
   "cell_type": "code",
   "execution_count": 5,
   "metadata": {
    "_cell_guid": "85d2d5e0-165a-4ad5-860d-be1d1aa20c59",
    "_uuid": "aa399813ff512b0d7671e9bfcebf7f41ee139275",
    "collapsed": true,
    "jupyter": {
     "outputs_hidden": true
    }
   },
   "outputs": [],
   "source": [
    "try:\n",
    "    credits = pd.read_csv('../input/movies-data/credits_small.csv')\n",
    "except FileNotFoundError:\n",
    "    credits = pd.read_csv('../input/the-movies-dataset/credits.csv')\n",
    "    links_small = pd.read_csv('../input/the-movies-dataset/links_small.csv')['tmdbId']\n",
    "    links_small = links_small.dropna().astype(int)\n",
    "    credits = credits[credits['id'].isin(links_small)]\n",
    "\n",
    "\n",
    "    def get_director(x):\n",
    "        for i in literal_eval(x):\n",
    "            if i['job'] == 'Director':\n",
    "                return i['name']\n",
    "        return ''\n",
    "\n",
    "\n",
    "    credits['crew'] = credits['crew'].apply(get_director)\n",
    "    credits = credits.rename(columns={'crew': 'director'})\n",
    "    credits['cast'] = credits['cast'].apply(lambda x: [i['name'] for i in literal_eval(x)[:3]])\n",
    "    credits = credits.astype(str).drop_duplicates()\n",
    "\n",
    "    keywords = pd.read_csv('../input/the-movies-dataset/keywords.csv')\n",
    "    keywords = keywords[keywords['id'].isin(links_small)].drop_duplicates()\n",
    "    keywords['keywords'] = keywords['keywords'].apply(lambda x: [i['name'] for i in literal_eval(x)])\n",
    "\n",
    "    credits = keywords.astype(str).merge(credits)\n",
    "    credits.to_csv('../input/movies-data/credits_small.csv', index=False)"
   ]
  },
  {
   "cell_type": "markdown",
   "metadata": {
    "_cell_guid": "5932e964-9f33-4cac-b90c-d6a116c8c463",
    "_uuid": "8e2c893fd842164c99b1be3f84f11fac3adab387"
   },
   "source": [
    "We now have our cast, crew, genres and credits, all in one dataframe. Let us wrangle this a little more using the following intuitions:\n",
    "\n",
    "1. **Crew:** From the crew, we will only pick the director as our feature since the others don't contribute that much to the *feel* of the movie.\n",
    "2. **Cast:** Choosing Cast is a little more tricky. Lesser known actors and minor roles do not really affect people's opinion of a movie. Therefore, we must only select the major characters and their respective actors. Arbitrarily we will choose the top 3 actors that appear in the credits list. \n"
   ]
  },
  {
   "cell_type": "code",
   "execution_count": 9,
   "metadata": {
    "_cell_guid": "0e19fe24-e206-4743-a96c-fb828707c74d",
    "_uuid": "4207baed79a12ab3314fc816076bbff032d3e186",
    "collapsed": true,
    "jupyter": {
     "outputs_hidden": true
    }
   },
   "outputs": [
    {
     "data": {
      "text/html": [
       "<div>\n",
       "<style scoped>\n",
       "    .dataframe tbody tr th:only-of-type {\n",
       "        vertical-align: middle;\n",
       "    }\n",
       "\n",
       "    .dataframe tbody tr th {\n",
       "        vertical-align: top;\n",
       "    }\n",
       "\n",
       "    .dataframe thead th {\n",
       "        text-align: right;\n",
       "    }\n",
       "</style>\n",
       "<table border=\"1\" class=\"dataframe\">\n",
       "  <thead>\n",
       "    <tr style=\"text-align: right;\">\n",
       "      <th></th>\n",
       "      <th>id</th>\n",
       "      <th>keywords</th>\n",
       "      <th>cast</th>\n",
       "      <th>director</th>\n",
       "    </tr>\n",
       "  </thead>\n",
       "  <tbody>\n",
       "    <tr>\n",
       "      <th>0</th>\n",
       "      <td>862</td>\n",
       "      <td>[jealousy, toy, boy, friendship, friends, riva...</td>\n",
       "      <td>[Tom Hanks, Tim Allen, Don Rickles]</td>\n",
       "      <td>John Lasseter</td>\n",
       "    </tr>\n",
       "    <tr>\n",
       "      <th>1</th>\n",
       "      <td>8844</td>\n",
       "      <td>[board game, disappearance, based on children'...</td>\n",
       "      <td>[Robin Williams, Jonathan Hyde, Kirsten Dunst]</td>\n",
       "      <td>Joe Johnston</td>\n",
       "    </tr>\n",
       "    <tr>\n",
       "      <th>2</th>\n",
       "      <td>15602</td>\n",
       "      <td>[fishing, best friend, duringcreditsstinger, o...</td>\n",
       "      <td>[Walter Matthau, Jack Lemmon, Ann-Margret]</td>\n",
       "      <td>Howard Deutch</td>\n",
       "    </tr>\n",
       "    <tr>\n",
       "      <th>3</th>\n",
       "      <td>31357</td>\n",
       "      <td>[based on novel, interracial relationship, sin...</td>\n",
       "      <td>[Whitney Houston, Angela Bassett, Loretta Devine]</td>\n",
       "      <td>Forest Whitaker</td>\n",
       "    </tr>\n",
       "    <tr>\n",
       "      <th>4</th>\n",
       "      <td>11862</td>\n",
       "      <td>[baby, midlife crisis, confidence, aging, daug...</td>\n",
       "      <td>[Steve Martin, Diane Keaton, Martin Short]</td>\n",
       "      <td>Charles Shyer</td>\n",
       "    </tr>\n",
       "  </tbody>\n",
       "</table>\n",
       "</div>"
      ],
      "text/plain": [
       "      id                                           keywords  \\\n",
       "0    862  [jealousy, toy, boy, friendship, friends, riva...   \n",
       "1   8844  [board game, disappearance, based on children'...   \n",
       "2  15602  [fishing, best friend, duringcreditsstinger, o...   \n",
       "3  31357  [based on novel, interracial relationship, sin...   \n",
       "4  11862  [baby, midlife crisis, confidence, aging, daug...   \n",
       "\n",
       "                                                cast         director  \n",
       "0                [Tom Hanks, Tim Allen, Don Rickles]    John Lasseter  \n",
       "1     [Robin Williams, Jonathan Hyde, Kirsten Dunst]     Joe Johnston  \n",
       "2         [Walter Matthau, Jack Lemmon, Ann-Margret]    Howard Deutch  \n",
       "3  [Whitney Houston, Angela Bassett, Loretta Devine]  Forest Whitaker  \n",
       "4         [Steve Martin, Diane Keaton, Martin Short]    Charles Shyer  "
      ]
     },
     "execution_count": 9,
     "metadata": {},
     "output_type": "execute_result"
    }
   ],
   "source": [
    "credits[['cast', 'keywords']] = credits[['cast', 'keywords']].applymap(literal_eval)\n",
    "credits.head()"
   ]
  },
  {
   "cell_type": "markdown",
   "metadata": {
    "_cell_guid": "9f2cbd6e-3729-4316-bb4a-1bcd092f19ff",
    "_uuid": "ac9eb7bb4b74983b9c649013b7cdc6ebbb78af23"
   },
   "source": [
    "My approach to building the recommender is going to be extremely *hacky*. What I plan on doing is creating a metadata dump for every movie which consists of **genres, director, main actors and keywords.** I then use a **Count Vectorizer** to create our count matrix as we did in the Description Recommender. The remaining steps are similar to what we did earlier: we calculate the cosine similarities and return movies that are most similar.\n",
    "\n",
    "These are steps I follow in the preparation of my genres and credits data:\n",
    "1. **Strip Spaces and Convert to Lowercase** from all our features. This way, our engine will not confuse between **Johnny Depp** and **Johnny Galecki.** \n",
    "2. **Mention Director 3 times** to give it more weight relative to the entire cast."
   ]
  },
  {
   "cell_type": "code",
   "execution_count": 17,
   "metadata": {
    "_cell_guid": "6c5ffd70-ef6b-4fd0-be3d-b3c6a0d72df0",
    "_uuid": "01d86674d50b903fedc79750c4031ca88a739449",
    "collapsed": true,
    "jupyter": {
     "outputs_hidden": true
    }
   },
   "outputs": [],
   "source": [
    "strip = lambda x: str(x).replace(\" \", \"\").lower()\n",
    "cast = credits['cast'].apply(lambda x: [strip(i) for i in x])\n",
    "director = credits['director'].apply(lambda x: [strip(x)] * 3)"
   ]
  },
  {
   "cell_type": "markdown",
   "metadata": {
    "_cell_guid": "5ea1aabb-a885-4dfe-a85e-0e31fd76558f",
    "_uuid": "feac137ab3987ade6ae3b041c6cbec3bf4364e66"
   },
   "source": [
    "#### Keywords\n",
    "\n",
    "We will do a small amount of pre-processing of our keywords before putting them to any use. As a first step, we calculate the frequenct counts of every keyword that appears in the dataset."
   ]
  },
  {
   "cell_type": "code",
   "execution_count": 12,
   "metadata": {
    "_cell_guid": "3dc8f545-4666-4cc0-8473-2870a69e7ff0",
    "_uuid": "5740d11531f7305f4edf13b0270dc014382a2b5c",
    "collapsed": true,
    "jupyter": {
     "outputs_hidden": true
    }
   },
   "outputs": [
    {
     "data": {
      "text/plain": [
       "independent film        603\n",
       "woman director          541\n",
       "murder                  397\n",
       "duringcreditsstinger    327\n",
       "based on novel          309\n",
       "dtype: int64"
      ]
     },
     "execution_count": 12,
     "metadata": {},
     "output_type": "execute_result"
    }
   ],
   "source": [
    "s = pd.DataFrame(np.concatenate(credits['keywords'])).value_counts()\n",
    "s[:5]"
   ]
  },
  {
   "cell_type": "code",
   "execution_count": 11,
   "metadata": {
    "pycharm": {
     "name": "#%%\n"
    }
   },
   "outputs": [
    {
     "data": {
      "text/plain": [
       "0       [jealousy, toy, boy, friendship, friends, riva...\n",
       "1       [board game, disappearance, based on children'...\n",
       "2       [fishing, best friend, duringcreditsstinger, o...\n",
       "3       [based on novel, interracial relationship, sin...\n",
       "4       [baby, midlife crisis, confidence, aging, daug...\n",
       "                              ...                        \n",
       "9077                           [friendship, brick making]\n",
       "9078                                          [bollywood]\n",
       "9079                                          [bollywood]\n",
       "9080    [monster, godzilla, giant monster, destruction...\n",
       "9081                                 [music, documentary]\n",
       "Name: keywords, Length: 9082, dtype: object"
      ]
     },
     "execution_count": 11,
     "metadata": {},
     "output_type": "execute_result"
    }
   ],
   "source": [
    "credits['keywords']"
   ]
  },
  {
   "cell_type": "markdown",
   "metadata": {
    "_cell_guid": "4277aa18-dc91-4836-9853-2c94624cc70d",
    "_uuid": "0ac999648a3085a98948ccf9ada187a9bb08eba3"
   },
   "source": [
    "Keywords occur in frequencies ranging from 1 to 603. We do not have any use for keywords that occur only once. Therefore, these can be safely removed. Finally, we will convert every word to its stem so that words such as *Dogs* and *Dog* are considered the same."
   ]
  },
  {
   "cell_type": "code",
   "execution_count": 19,
   "metadata": {
    "_cell_guid": "8cabd79b-dfab-46d8-922d-e204173d8103",
    "_uuid": "bf05fb571b1ee60335af20acb9cf5d7fee6254e8",
    "collapsed": true,
    "jupyter": {
     "outputs_hidden": true
    }
   },
   "outputs": [],
   "source": [
    "s = s[s > 1]\n",
    "\n",
    "from nltk.stem.snowball import SnowballStemmer\n",
    "\n",
    "stem = SnowballStemmer('english').stem\n",
    "\n",
    "\n",
    "def filter_keywords(x):\n",
    "    words = []\n",
    "    for i in x:\n",
    "        if i in s:\n",
    "            for a in i.split():\n",
    "                words.append(stem(a))\n",
    "    return words"
   ]
  },
  {
   "cell_type": "code",
   "execution_count": 20,
   "metadata": {
    "_cell_guid": "959063e5-841d-408a-a10e-1f1437756b7c",
    "_uuid": "2a939eb8846871c606da0f654a1a9a978270e99f",
    "collapsed": true,
    "jupyter": {
     "outputs_hidden": true
    }
   },
   "outputs": [
    {
     "data": {
      "text/plain": [
       "0    jealousi toy boy friendship friend rivalri boy...\n",
       "1    board game disappear base on children book new...\n",
       "2    fish best friend duringcreditssting waltermatt...\n",
       "3    base on novel interraci relationship singl mot...\n",
       "4    babi midlif crisi confid age daughter mother d...\n",
       "dtype: object"
      ]
     },
     "execution_count": 20,
     "metadata": {},
     "output_type": "execute_result"
    }
   ],
   "source": [
    "keywords = credits['keywords'].apply(filter_keywords)\n",
    "md = pd.read_csv('../input/movies-data/metadata_small.csv', dtype=\n",
    "{'id': int}, usecols=['id', 'genres'])\n",
    "genres = credits.merge(md)[['id', 'genres']].drop_duplicates()\n",
    "genres = genres['genres'].reset_index(drop=True).apply(literal_eval)\n",
    "soup = keywords + cast + director + genres\n",
    "soup = soup.apply(lambda x: ' '.join(x))\n",
    "soup.head()"
   ]
  },
  {
   "cell_type": "code",
   "execution_count": 21,
   "metadata": {
    "_cell_guid": "7f9aa1bc-351b-47a1-b909-0d87efe93adc",
    "_uuid": "c758030ce02bb4beed606e41a3e0a51b659768f0",
    "collapsed": true,
    "jupyter": {
     "outputs_hidden": true
    }
   },
   "outputs": [],
   "source": [
    "count = CountVectorizer(ngram_range=(1, 2), min_df=0, stop_words='english')\n",
    "count_matrix = count.fit_transform(soup)\n",
    "\n",
    "cosine_sim = cosine_similarity(count_matrix)"
   ]
  },
  {
   "cell_type": "markdown",
   "metadata": {
    "_cell_guid": "7f7ae1dc-41c0-4cd7-af41-74e6075b0d90",
    "_uuid": "37e2da9e51efab9951e6061f677c5ffcad230782"
   },
   "source": [
    "We will reuse the get_recommendations function that we had written earlier. Since our cosine similarity scores have changed, we expect it to give us different (and probably better) results. Let us check for **The Dark Knight** again and see what recommendations I get this time around."
   ]
  },
  {
   "cell_type": "code",
   "execution_count": 22,
   "metadata": {
    "_cell_guid": "e755e943-495b-46df-983b-2f8ad80fcd6a",
    "_uuid": "f6e2b6b232e992c783150a0ac5a7038c6de6db37"
   },
   "outputs": [
    {
     "data": {
      "text/html": [
       "<div>\n",
       "<style scoped>\n",
       "    .dataframe tbody tr th:only-of-type {\n",
       "        vertical-align: middle;\n",
       "    }\n",
       "\n",
       "    .dataframe tbody tr th {\n",
       "        vertical-align: top;\n",
       "    }\n",
       "\n",
       "    .dataframe thead th {\n",
       "        text-align: right;\n",
       "    }\n",
       "</style>\n",
       "<table border=\"1\" class=\"dataframe\">\n",
       "  <thead>\n",
       "    <tr style=\"text-align: right;\">\n",
       "      <th></th>\n",
       "      <th>title</th>\n",
       "      <th>description</th>\n",
       "    </tr>\n",
       "    <tr>\n",
       "      <th>id</th>\n",
       "      <th></th>\n",
       "      <th></th>\n",
       "    </tr>\n",
       "  </thead>\n",
       "  <tbody>\n",
       "    <tr>\n",
       "      <th>272</th>\n",
       "      <td>Batman Begins</td>\n",
       "      <td>Driven by tragedy, billionaire Bruce Wayne ded...</td>\n",
       "    </tr>\n",
       "    <tr>\n",
       "      <th>49026</th>\n",
       "      <td>The Dark Knight Rises</td>\n",
       "      <td>Following the death of District Attorney Harve...</td>\n",
       "    </tr>\n",
       "    <tr>\n",
       "      <th>40662</th>\n",
       "      <td>Batman: Under the Red Hood</td>\n",
       "      <td>Batman faces his ultimate challenge as the mys...</td>\n",
       "    </tr>\n",
       "    <tr>\n",
       "      <th>364</th>\n",
       "      <td>Batman Returns</td>\n",
       "      <td>Having defeated the Joker, Batman now faces th...</td>\n",
       "    </tr>\n",
       "    <tr>\n",
       "      <th>415</th>\n",
       "      <td>Batman &amp; Robin</td>\n",
       "      <td>Along with crime-fighting partner Robin and ne...</td>\n",
       "    </tr>\n",
       "    <tr>\n",
       "      <th>1124</th>\n",
       "      <td>The Prestige</td>\n",
       "      <td>A mysterious story of two magicians whose inte...</td>\n",
       "    </tr>\n",
       "    <tr>\n",
       "      <th>11660</th>\n",
       "      <td>Following</td>\n",
       "      <td>A struggling, unemployed young writer takes to...</td>\n",
       "    </tr>\n",
       "    <tr>\n",
       "      <th>268</th>\n",
       "      <td>Batman</td>\n",
       "      <td>The Dark Knight of Gotham City begins his war ...</td>\n",
       "    </tr>\n",
       "    <tr>\n",
       "      <th>414</th>\n",
       "      <td>Batman Forever</td>\n",
       "      <td>The Dark Knight of Gotham City confronts a das...</td>\n",
       "    </tr>\n",
       "    <tr>\n",
       "      <th>1924</th>\n",
       "      <td>Superman</td>\n",
       "      <td>Mild-mannered Clark Kent works as a reporter a...</td>\n",
       "    </tr>\n",
       "  </tbody>\n",
       "</table>\n",
       "</div>"
      ],
      "text/plain": [
       "                            title  \\\n",
       "id                                  \n",
       "272                 Batman Begins   \n",
       "49026       The Dark Knight Rises   \n",
       "40662  Batman: Under the Red Hood   \n",
       "364                Batman Returns   \n",
       "415                Batman & Robin   \n",
       "1124                 The Prestige   \n",
       "11660                   Following   \n",
       "268                        Batman   \n",
       "414                Batman Forever   \n",
       "1924                     Superman   \n",
       "\n",
       "                                             description  \n",
       "id                                                        \n",
       "272    Driven by tragedy, billionaire Bruce Wayne ded...  \n",
       "49026  Following the death of District Attorney Harve...  \n",
       "40662  Batman faces his ultimate challenge as the mys...  \n",
       "364    Having defeated the Joker, Batman now faces th...  \n",
       "415    Along with crime-fighting partner Robin and ne...  \n",
       "1124   A mysterious story of two magicians whose inte...  \n",
       "11660  A struggling, unemployed young writer takes to...  \n",
       "268    The Dark Knight of Gotham City begins his war ...  \n",
       "414    The Dark Knight of Gotham City confronts a das...  \n",
       "1924   Mild-mannered Clark Kent works as a reporter a...  "
      ]
     },
     "execution_count": 22,
     "metadata": {},
     "output_type": "execute_result"
    }
   ],
   "source": [
    "recommend('The Dark Knight').head(10)"
   ]
  },
  {
   "cell_type": "markdown",
   "metadata": {
    "_cell_guid": "96c3a594-19de-4a38-a033-cbdd7d69aa4c",
    "_uuid": "65859bb4471fbd873df938ef77ed667cac10babc"
   },
   "source": [
    "I am much more satisfied with the results I get this time around. The recommendations seem to have recognized other Christopher Nolan movies (due to the high weightage given to director) and put them as top recommendations. I enjoyed watching **The Dark Knight** as well as some of the other ones in the list including **Batman Begins**, **The Prestige** and **The Dark Knight Rises**. \n",
    "\n",
    "We can of course experiment on this engine by trying out different weights for our features (directors, actors, genres), limiting the number of keywords that can be used in the soup, weighing genres based on their frequency, only showing movies with the same languages, etc."
   ]
  },
  {
   "cell_type": "markdown",
   "metadata": {},
   "source": [
    "Let me also get recommendations for another movie, **Mean Girls** which happens to be my girlfriend's favorite movie."
   ]
  },
  {
   "cell_type": "code",
   "execution_count": 23,
   "metadata": {
    "_cell_guid": "ef4d3551-2c66-4732-9be1-10425962d5e9",
    "_uuid": "688b323c3b96224127465e8d48e67688ba4be202"
   },
   "outputs": [
    {
     "data": {
      "text/html": [
       "<div>\n",
       "<style scoped>\n",
       "    .dataframe tbody tr th:only-of-type {\n",
       "        vertical-align: middle;\n",
       "    }\n",
       "\n",
       "    .dataframe tbody tr th {\n",
       "        vertical-align: top;\n",
       "    }\n",
       "\n",
       "    .dataframe thead th {\n",
       "        text-align: right;\n",
       "    }\n",
       "</style>\n",
       "<table border=\"1\" class=\"dataframe\">\n",
       "  <thead>\n",
       "    <tr style=\"text-align: right;\">\n",
       "      <th></th>\n",
       "      <th>title</th>\n",
       "      <th>description</th>\n",
       "    </tr>\n",
       "    <tr>\n",
       "      <th>id</th>\n",
       "      <th></th>\n",
       "      <th></th>\n",
       "    </tr>\n",
       "  </thead>\n",
       "  <tbody>\n",
       "    <tr>\n",
       "      <th>24940</th>\n",
       "      <td>Head Over Heels</td>\n",
       "      <td>Ordinary single girl Amanda Pierce (Monica Pot...</td>\n",
       "    </tr>\n",
       "    <tr>\n",
       "      <th>10330</th>\n",
       "      <td>Freaky Friday</td>\n",
       "      <td>Mother and daughter bicker over everything -- ...</td>\n",
       "    </tr>\n",
       "    <tr>\n",
       "      <th>9007</th>\n",
       "      <td>Just Like Heaven</td>\n",
       "      <td>Shortly after David Abbott moves into his new ...</td>\n",
       "    </tr>\n",
       "    <tr>\n",
       "      <th>272693</th>\n",
       "      <td>The DUFF</td>\n",
       "      <td>Bianca's universe turns upside down when she l...</td>\n",
       "    </tr>\n",
       "    <tr>\n",
       "      <th>12556</th>\n",
       "      <td>Ghosts of Girlfriends Past</td>\n",
       "      <td>When notorious womanizer Connor Mead attends h...</td>\n",
       "    </tr>\n",
       "    <tr>\n",
       "      <th>58224</th>\n",
       "      <td>Mr. Popper's Penguins</td>\n",
       "      <td>Jim Carrey stars as Tom Popper, a successful b...</td>\n",
       "    </tr>\n",
       "    <tr>\n",
       "      <th>33344</th>\n",
       "      <td>The House of Yes</td>\n",
       "      <td>Jackie-O is anxiously awaiting the visit of he...</td>\n",
       "    </tr>\n",
       "    <tr>\n",
       "      <th>40205</th>\n",
       "      <td>16 Wishes</td>\n",
       "      <td>The story about Abby Jensen, a girl who's been...</td>\n",
       "    </tr>\n",
       "    <tr>\n",
       "      <th>16996</th>\n",
       "      <td>17 Again</td>\n",
       "      <td>On the brink of a midlife crisis, 30-something...</td>\n",
       "    </tr>\n",
       "    <tr>\n",
       "      <th>57214</th>\n",
       "      <td>Project X</td>\n",
       "      <td>Three high school seniors throw a party to mak...</td>\n",
       "    </tr>\n",
       "  </tbody>\n",
       "</table>\n",
       "</div>"
      ],
      "text/plain": [
       "                             title  \\\n",
       "id                                   \n",
       "24940              Head Over Heels   \n",
       "10330                Freaky Friday   \n",
       "9007              Just Like Heaven   \n",
       "272693                    The DUFF   \n",
       "12556   Ghosts of Girlfriends Past   \n",
       "58224        Mr. Popper's Penguins   \n",
       "33344             The House of Yes   \n",
       "40205                    16 Wishes   \n",
       "16996                     17 Again   \n",
       "57214                    Project X   \n",
       "\n",
       "                                              description  \n",
       "id                                                         \n",
       "24940   Ordinary single girl Amanda Pierce (Monica Pot...  \n",
       "10330   Mother and daughter bicker over everything -- ...  \n",
       "9007    Shortly after David Abbott moves into his new ...  \n",
       "272693  Bianca's universe turns upside down when she l...  \n",
       "12556   When notorious womanizer Connor Mead attends h...  \n",
       "58224   Jim Carrey stars as Tom Popper, a successful b...  \n",
       "33344   Jackie-O is anxiously awaiting the visit of he...  \n",
       "40205   The story about Abby Jensen, a girl who's been...  \n",
       "16996   On the brink of a midlife crisis, 30-something...  \n",
       "57214   Three high school seniors throw a party to mak...  "
      ]
     },
     "execution_count": 23,
     "metadata": {},
     "output_type": "execute_result"
    }
   ],
   "source": [
    "recommend('Mean Girls').head(10)"
   ]
  },
  {
   "cell_type": "markdown",
   "metadata": {
    "_cell_guid": "77c9d0d7-684c-41ab-b806-b38264b2cf3f",
    "_uuid": "536a4e8632d62d2b6a0c0d5e8b5731c39eb5529b"
   },
   "source": [
    "#### Ratings and Popularity\n",
    "\n",
    "One thing that we notice about our recommendation system is that it recommends movies regardless of *ratings* and *popularity*.\n",
    "\n",
    "Therefore, we will add a mechanism to reorder and return movies which are popular and have had a good critical response.\n",
    "\n",
    "First I will take the top 25 movies based on similarity scores. Then we will calculate the weighted rating of each movie using IMDB's formula like we did in the Simple Recommender section. And using vote of the 60% as the value $m$ of these similar movies, then reorder."
   ]
  },
  {
   "cell_type": "code",
   "execution_count": 24,
   "metadata": {
    "_cell_guid": "1b5f0675-caa1-41bf-8a9a-ba89b0e07872",
    "_uuid": "0a7cc50433dcd13586dc1ee825b0880ad0c83869",
    "collapsed": true,
    "jupyter": {
     "outputs_hidden": true
    }
   },
   "outputs": [],
   "source": [
    "def improved_recommendations(title):\n",
    "    movies = recommend(title)[:25]\n",
    "    md_s = pd.read_csv('../input/movies-data/metadata_small.csv', dtype=\n",
    "    {'id': int, 'vote_count': int, 'vote_averages': float})\n",
    "    md_s = md_s[md_s['id'].isin(movies.index)]\n",
    "    return weighted_rating(md_s, 0.6)"
   ]
  },
  {
   "cell_type": "code",
   "execution_count": 25,
   "metadata": {
    "_cell_guid": "7f4ce0f9-ebc0-464d-a3d4-084f156d02b4",
    "_uuid": "c36a9662253e9a6bb1ae008e6cabd8dee7aaaa73"
   },
   "outputs": [
    {
     "data": {
      "text/html": [
       "<div>\n",
       "<style scoped>\n",
       "    .dataframe tbody tr th:only-of-type {\n",
       "        vertical-align: middle;\n",
       "    }\n",
       "\n",
       "    .dataframe tbody tr th {\n",
       "        vertical-align: top;\n",
       "    }\n",
       "\n",
       "    .dataframe thead th {\n",
       "        text-align: right;\n",
       "    }\n",
       "</style>\n",
       "<table border=\"1\" class=\"dataframe\">\n",
       "  <thead>\n",
       "    <tr style=\"text-align: right;\">\n",
       "      <th></th>\n",
       "      <th>id</th>\n",
       "      <th>title</th>\n",
       "      <th>release_date</th>\n",
       "      <th>genres</th>\n",
       "      <th>vote_count</th>\n",
       "      <th>vote_average</th>\n",
       "      <th>popularity</th>\n",
       "      <th>weighted_rating</th>\n",
       "    </tr>\n",
       "  </thead>\n",
       "  <tbody>\n",
       "    <tr>\n",
       "      <th>15480</th>\n",
       "      <td>27205</td>\n",
       "      <td>Inception</td>\n",
       "      <td>2010-07-14</td>\n",
       "      <td>['Action', 'Thriller', 'Science Fiction', 'Mys...</td>\n",
       "      <td>14075</td>\n",
       "      <td>8.1</td>\n",
       "      <td>29.108149</td>\n",
       "      <td>7.962012</td>\n",
       "    </tr>\n",
       "    <tr>\n",
       "      <th>11354</th>\n",
       "      <td>1124</td>\n",
       "      <td>The Prestige</td>\n",
       "      <td>2006-10-19</td>\n",
       "      <td>['Drama', 'Mystery', 'Thriller']</td>\n",
       "      <td>4510</td>\n",
       "      <td>8.0</td>\n",
       "      <td>16.945560</td>\n",
       "      <td>7.672174</td>\n",
       "    </tr>\n",
       "    <tr>\n",
       "      <th>18252</th>\n",
       "      <td>49026</td>\n",
       "      <td>The Dark Knight Rises</td>\n",
       "      <td>2012-07-16</td>\n",
       "      <td>['Action', 'Crime', 'Drama', 'Thriller']</td>\n",
       "      <td>9263</td>\n",
       "      <td>7.6</td>\n",
       "      <td>20.582580</td>\n",
       "      <td>7.474523</td>\n",
       "    </tr>\n",
       "    <tr>\n",
       "      <th>10122</th>\n",
       "      <td>272</td>\n",
       "      <td>Batman Begins</td>\n",
       "      <td>2005-06-10</td>\n",
       "      <td>['Action', 'Crime', 'Drama']</td>\n",
       "      <td>7511</td>\n",
       "      <td>7.5</td>\n",
       "      <td>28.505341</td>\n",
       "      <td>7.367953</td>\n",
       "    </tr>\n",
       "    <tr>\n",
       "      <th>15017</th>\n",
       "      <td>23483</td>\n",
       "      <td>Kick-Ass</td>\n",
       "      <td>2010-03-22</td>\n",
       "      <td>['Action', 'Crime']</td>\n",
       "      <td>4747</td>\n",
       "      <td>7.1</td>\n",
       "      <td>17.260450</td>\n",
       "      <td>7.011273</td>\n",
       "    </tr>\n",
       "    <tr>\n",
       "      <th>585</th>\n",
       "      <td>268</td>\n",
       "      <td>Batman</td>\n",
       "      <td>1989-06-23</td>\n",
       "      <td>['Fantasy', 'Action']</td>\n",
       "      <td>2145</td>\n",
       "      <td>7.0</td>\n",
       "      <td>19.106730</td>\n",
       "      <td>6.892344</td>\n",
       "    </tr>\n",
       "    <tr>\n",
       "      <th>1328</th>\n",
       "      <td>364</td>\n",
       "      <td>Batman Returns</td>\n",
       "      <td>1992-06-19</td>\n",
       "      <td>['Action', 'Fantasy']</td>\n",
       "      <td>1706</td>\n",
       "      <td>6.6</td>\n",
       "      <td>15.001681</td>\n",
       "      <td>6.671623</td>\n",
       "    </tr>\n",
       "    <tr>\n",
       "      <th>21066</th>\n",
       "      <td>49521</td>\n",
       "      <td>Man of Steel</td>\n",
       "      <td>2013-06-12</td>\n",
       "      <td>['Action', 'Adventure', 'Fantasy', 'Science Fi...</td>\n",
       "      <td>6462</td>\n",
       "      <td>6.5</td>\n",
       "      <td>18.538834</td>\n",
       "      <td>6.549214</td>\n",
       "    </tr>\n",
       "    <tr>\n",
       "      <th>21415</th>\n",
       "      <td>59859</td>\n",
       "      <td>Kick-Ass 2</td>\n",
       "      <td>2013-07-17</td>\n",
       "      <td>['Action', 'Adventure', 'Crime']</td>\n",
       "      <td>2275</td>\n",
       "      <td>6.3</td>\n",
       "      <td>13.570264</td>\n",
       "      <td>6.484967</td>\n",
       "    </tr>\n",
       "    <tr>\n",
       "      <th>31068</th>\n",
       "      <td>209112</td>\n",
       "      <td>Batman v Superman: Dawn of Justice</td>\n",
       "      <td>2016-03-23</td>\n",
       "      <td>['Action', 'Adventure', 'Fantasy']</td>\n",
       "      <td>7189</td>\n",
       "      <td>5.7</td>\n",
       "      <td>31.435879</td>\n",
       "      <td>5.890764</td>\n",
       "    </tr>\n",
       "  </tbody>\n",
       "</table>\n",
       "</div>"
      ],
      "text/plain": [
       "           id                               title release_date  \\\n",
       "15480   27205                           Inception   2010-07-14   \n",
       "11354    1124                        The Prestige   2006-10-19   \n",
       "18252   49026               The Dark Knight Rises   2012-07-16   \n",
       "10122     272                       Batman Begins   2005-06-10   \n",
       "15017   23483                            Kick-Ass   2010-03-22   \n",
       "585       268                              Batman   1989-06-23   \n",
       "1328      364                      Batman Returns   1992-06-19   \n",
       "21066   49521                        Man of Steel   2013-06-12   \n",
       "21415   59859                          Kick-Ass 2   2013-07-17   \n",
       "31068  209112  Batman v Superman: Dawn of Justice   2016-03-23   \n",
       "\n",
       "                                                  genres  vote_count  \\\n",
       "15480  ['Action', 'Thriller', 'Science Fiction', 'Mys...       14075   \n",
       "11354                   ['Drama', 'Mystery', 'Thriller']        4510   \n",
       "18252           ['Action', 'Crime', 'Drama', 'Thriller']        9263   \n",
       "10122                       ['Action', 'Crime', 'Drama']        7511   \n",
       "15017                                ['Action', 'Crime']        4747   \n",
       "585                                ['Fantasy', 'Action']        2145   \n",
       "1328                               ['Action', 'Fantasy']        1706   \n",
       "21066  ['Action', 'Adventure', 'Fantasy', 'Science Fi...        6462   \n",
       "21415                   ['Action', 'Adventure', 'Crime']        2275   \n",
       "31068                 ['Action', 'Adventure', 'Fantasy']        7189   \n",
       "\n",
       "       vote_average  popularity  weighted_rating  \n",
       "15480           8.1   29.108149         7.962012  \n",
       "11354           8.0   16.945560         7.672174  \n",
       "18252           7.6   20.582580         7.474523  \n",
       "10122           7.5   28.505341         7.367953  \n",
       "15017           7.1   17.260450         7.011273  \n",
       "585             7.0   19.106730         6.892344  \n",
       "1328            6.6   15.001681         6.671623  \n",
       "21066           6.5   18.538834         6.549214  \n",
       "21415           6.3   13.570264         6.484967  \n",
       "31068           5.7   31.435879         5.890764  "
      ]
     },
     "execution_count": 25,
     "metadata": {},
     "output_type": "execute_result"
    }
   ],
   "source": [
    "improved_recommendations('The Dark Knight')"
   ]
  },
  {
   "cell_type": "markdown",
   "metadata": {},
   "source": [
    "Let me also get the recommendations for **Mean Girls**, my girlfriend's favorite movie."
   ]
  },
  {
   "cell_type": "code",
   "execution_count": 26,
   "metadata": {
    "_cell_guid": "69a93363-d82c-47e3-94fc-d59a219a4f3a",
    "_uuid": "a04523fa7c17a9ae25d5fcade4c817d35e8b6f19"
   },
   "outputs": [
    {
     "data": {
      "text/html": [
       "<div>\n",
       "<style scoped>\n",
       "    .dataframe tbody tr th:only-of-type {\n",
       "        vertical-align: middle;\n",
       "    }\n",
       "\n",
       "    .dataframe tbody tr th {\n",
       "        vertical-align: top;\n",
       "    }\n",
       "\n",
       "    .dataframe thead th {\n",
       "        text-align: right;\n",
       "    }\n",
       "</style>\n",
       "<table border=\"1\" class=\"dataframe\">\n",
       "  <thead>\n",
       "    <tr style=\"text-align: right;\">\n",
       "      <th></th>\n",
       "      <th>id</th>\n",
       "      <th>title</th>\n",
       "      <th>release_date</th>\n",
       "      <th>genres</th>\n",
       "      <th>vote_count</th>\n",
       "      <th>vote_average</th>\n",
       "      <th>popularity</th>\n",
       "      <th>weighted_rating</th>\n",
       "    </tr>\n",
       "  </thead>\n",
       "  <tbody>\n",
       "    <tr>\n",
       "      <th>27864</th>\n",
       "      <td>308369</td>\n",
       "      <td>Me and Earl and the Dying Girl</td>\n",
       "      <td>2015-06-12</td>\n",
       "      <td>['Comedy', 'Drama']</td>\n",
       "      <td>962</td>\n",
       "      <td>7.7</td>\n",
       "      <td>12.503333</td>\n",
       "      <td>7.058764</td>\n",
       "    </tr>\n",
       "    <tr>\n",
       "      <th>27663</th>\n",
       "      <td>272693</td>\n",
       "      <td>The DUFF</td>\n",
       "      <td>2015-02-20</td>\n",
       "      <td>['Romance', 'Comedy']</td>\n",
       "      <td>1372</td>\n",
       "      <td>6.8</td>\n",
       "      <td>8.592449</td>\n",
       "      <td>6.576531</td>\n",
       "    </tr>\n",
       "    <tr>\n",
       "      <th>15814</th>\n",
       "      <td>37735</td>\n",
       "      <td>Easy A</td>\n",
       "      <td>2010-09-10</td>\n",
       "      <td>['Comedy']</td>\n",
       "      <td>2282</td>\n",
       "      <td>6.7</td>\n",
       "      <td>15.138144</td>\n",
       "      <td>6.568039</td>\n",
       "    </tr>\n",
       "    <tr>\n",
       "      <th>18667</th>\n",
       "      <td>57214</td>\n",
       "      <td>Project X</td>\n",
       "      <td>2012-03-01</td>\n",
       "      <td>['Comedy', 'Crime']</td>\n",
       "      <td>1624</td>\n",
       "      <td>6.5</td>\n",
       "      <td>9.803023</td>\n",
       "      <td>6.386496</td>\n",
       "    </tr>\n",
       "    <tr>\n",
       "      <th>11034</th>\n",
       "      <td>10947</td>\n",
       "      <td>High School Musical</td>\n",
       "      <td>2006-01-20</td>\n",
       "      <td>['Comedy', 'Drama', 'Family', 'Music', 'TV Mov...</td>\n",
       "      <td>1048</td>\n",
       "      <td>6.1</td>\n",
       "      <td>10.187478</td>\n",
       "      <td>6.100000</td>\n",
       "    </tr>\n",
       "    <tr>\n",
       "      <th>13044</th>\n",
       "      <td>11887</td>\n",
       "      <td>High School Musical 3: Senior Year</td>\n",
       "      <td>2008-10-22</td>\n",
       "      <td>['Comedy', 'Drama', 'Family', 'Music', 'Romance']</td>\n",
       "      <td>858</td>\n",
       "      <td>6.1</td>\n",
       "      <td>7.343504</td>\n",
       "      <td>6.100000</td>\n",
       "    </tr>\n",
       "    <tr>\n",
       "      <th>13602</th>\n",
       "      <td>16996</td>\n",
       "      <td>17 Again</td>\n",
       "      <td>2009-03-11</td>\n",
       "      <td>['Comedy']</td>\n",
       "      <td>1388</td>\n",
       "      <td>6.1</td>\n",
       "      <td>11.362762</td>\n",
       "      <td>6.100000</td>\n",
       "    </tr>\n",
       "    <tr>\n",
       "      <th>6444</th>\n",
       "      <td>10330</td>\n",
       "      <td>Freaky Friday</td>\n",
       "      <td>2003-08-03</td>\n",
       "      <td>['Comedy']</td>\n",
       "      <td>919</td>\n",
       "      <td>6.0</td>\n",
       "      <td>7.867999</td>\n",
       "      <td>6.041180</td>\n",
       "    </tr>\n",
       "    <tr>\n",
       "      <th>17282</th>\n",
       "      <td>58224</td>\n",
       "      <td>Mr. Popper's Penguins</td>\n",
       "      <td>2011-06-17</td>\n",
       "      <td>['Comedy', 'Family']</td>\n",
       "      <td>775</td>\n",
       "      <td>5.7</td>\n",
       "      <td>15.214342</td>\n",
       "      <td>5.881444</td>\n",
       "    </tr>\n",
       "    <tr>\n",
       "      <th>13843</th>\n",
       "      <td>12556</td>\n",
       "      <td>Ghosts of Girlfriends Past</td>\n",
       "      <td>2009-05-01</td>\n",
       "      <td>['Fantasy', 'Comedy', 'Romance']</td>\n",
       "      <td>716</td>\n",
       "      <td>5.6</td>\n",
       "      <td>8.401493</td>\n",
       "      <td>5.836649</td>\n",
       "    </tr>\n",
       "  </tbody>\n",
       "</table>\n",
       "</div>"
      ],
      "text/plain": [
       "           id                               title release_date  \\\n",
       "27864  308369      Me and Earl and the Dying Girl   2015-06-12   \n",
       "27663  272693                            The DUFF   2015-02-20   \n",
       "15814   37735                              Easy A   2010-09-10   \n",
       "18667   57214                           Project X   2012-03-01   \n",
       "11034   10947                 High School Musical   2006-01-20   \n",
       "13044   11887  High School Musical 3: Senior Year   2008-10-22   \n",
       "13602   16996                            17 Again   2009-03-11   \n",
       "6444    10330                       Freaky Friday   2003-08-03   \n",
       "17282   58224               Mr. Popper's Penguins   2011-06-17   \n",
       "13843   12556          Ghosts of Girlfriends Past   2009-05-01   \n",
       "\n",
       "                                                  genres  vote_count  \\\n",
       "27864                                ['Comedy', 'Drama']         962   \n",
       "27663                              ['Romance', 'Comedy']        1372   \n",
       "15814                                         ['Comedy']        2282   \n",
       "18667                                ['Comedy', 'Crime']        1624   \n",
       "11034  ['Comedy', 'Drama', 'Family', 'Music', 'TV Mov...        1048   \n",
       "13044  ['Comedy', 'Drama', 'Family', 'Music', 'Romance']         858   \n",
       "13602                                         ['Comedy']        1388   \n",
       "6444                                          ['Comedy']         919   \n",
       "17282                               ['Comedy', 'Family']         775   \n",
       "13843                   ['Fantasy', 'Comedy', 'Romance']         716   \n",
       "\n",
       "       vote_average  popularity  weighted_rating  \n",
       "27864           7.7   12.503333         7.058764  \n",
       "27663           6.8    8.592449         6.576531  \n",
       "15814           6.7   15.138144         6.568039  \n",
       "18667           6.5    9.803023         6.386496  \n",
       "11034           6.1   10.187478         6.100000  \n",
       "13044           6.1    7.343504         6.100000  \n",
       "13602           6.1   11.362762         6.100000  \n",
       "6444            6.0    7.867999         6.041180  \n",
       "17282           5.7   15.214342         5.881444  \n",
       "13843           5.6    8.401493         5.836649  "
      ]
     },
     "execution_count": 26,
     "metadata": {},
     "output_type": "execute_result"
    }
   ],
   "source": [
    "improved_recommendations('Mean Girls')"
   ]
  },
  {
   "cell_type": "markdown",
   "metadata": {
    "_cell_guid": "c43b2445-0b09-4eaf-8a93-6c5037fae0ad",
    "_uuid": "f8561762c1e258f52ab2c662f1eb3d5f695316b2"
   },
   "source": [
    "However, there is nothing much we can do about this. Therefore, we will conclude our Content Based Recommender section here and come back to it when we build a hybrid engine."
   ]
  },
  {
   "cell_type": "markdown",
   "metadata": {
    "_cell_guid": "a9a16fac-217d-4b36-b280-ca250ee921fe",
    "_uuid": "ddc06567eb0fe770c7f3b77f3cb7b777a6923f5c"
   },
   "source": [
    "## Collaborative Filtering\n",
    "\n",
    "Our content based engine suffers from some severe limitations. It is only capable of suggesting movies which are *close* to a certain movie. That is, it is not capable of capturing tastes and providing recommendations across genres.\n",
    "\n",
    "Also, the engine that we built is not really personal in that it doesn't capture the personal tastes and biases of a user. Anyone querying our engine for recommendations based on a movie will receive the same recommendations for that movie, regardless of who s/he is.\n",
    "\n",
    "Therefore, in this section, we will use a technique called **Collaborative Filtering** to make recommendations which is based on the idea that users similar to me can be used to predict how much I will like a particular product or service those users have used/experienced but I have not."
   ]
  },
  {
   "cell_type": "code",
   "execution_count": 27,
   "metadata": {
    "pycharm": {
     "name": "#%%\n"
    }
   },
   "outputs": [
    {
     "data": {
      "text/html": [
       "<div>\n",
       "<style scoped>\n",
       "    .dataframe tbody tr th:only-of-type {\n",
       "        vertical-align: middle;\n",
       "    }\n",
       "\n",
       "    .dataframe tbody tr th {\n",
       "        vertical-align: top;\n",
       "    }\n",
       "\n",
       "    .dataframe thead th {\n",
       "        text-align: right;\n",
       "    }\n",
       "</style>\n",
       "<table border=\"1\" class=\"dataframe\">\n",
       "  <thead>\n",
       "    <tr style=\"text-align: right;\">\n",
       "      <th></th>\n",
       "      <th>userId</th>\n",
       "      <th>movieId</th>\n",
       "      <th>rating</th>\n",
       "      <th>timestamp</th>\n",
       "    </tr>\n",
       "  </thead>\n",
       "  <tbody>\n",
       "    <tr>\n",
       "      <th>0</th>\n",
       "      <td>1</td>\n",
       "      <td>31</td>\n",
       "      <td>2.5</td>\n",
       "      <td>1260759144</td>\n",
       "    </tr>\n",
       "    <tr>\n",
       "      <th>1</th>\n",
       "      <td>1</td>\n",
       "      <td>1029</td>\n",
       "      <td>3.0</td>\n",
       "      <td>1260759179</td>\n",
       "    </tr>\n",
       "    <tr>\n",
       "      <th>2</th>\n",
       "      <td>1</td>\n",
       "      <td>1061</td>\n",
       "      <td>3.0</td>\n",
       "      <td>1260759182</td>\n",
       "    </tr>\n",
       "    <tr>\n",
       "      <th>3</th>\n",
       "      <td>1</td>\n",
       "      <td>1129</td>\n",
       "      <td>2.0</td>\n",
       "      <td>1260759185</td>\n",
       "    </tr>\n",
       "    <tr>\n",
       "      <th>4</th>\n",
       "      <td>1</td>\n",
       "      <td>1172</td>\n",
       "      <td>4.0</td>\n",
       "      <td>1260759205</td>\n",
       "    </tr>\n",
       "  </tbody>\n",
       "</table>\n",
       "</div>"
      ],
      "text/plain": [
       "   userId  movieId  rating   timestamp\n",
       "0       1       31     2.5  1260759144\n",
       "1       1     1029     3.0  1260759179\n",
       "2       1     1061     3.0  1260759182\n",
       "3       1     1129     2.0  1260759185\n",
       "4       1     1172     4.0  1260759205"
      ]
     },
     "execution_count": 27,
     "metadata": {},
     "output_type": "execute_result"
    }
   ],
   "source": [
    "from surprise import Reader, Dataset, SVD\n",
    "from surprise import accuracy\n",
    "from surprise.model_selection import train_test_split\n",
    "\n",
    "ratings = pd.read_csv('../input/the-movies-dataset/ratings_small.csv')\n",
    "ratings.head()"
   ]
  },
  {
   "cell_type": "markdown",
   "metadata": {
    "_cell_guid": "632e75c9-0068-456a-82d5-8a8eb44e98df",
    "_uuid": "de715e5b70a605e3bd65ad50bbfa9b71aac1aef4",
    "collapsed": true,
    "jupyter": {
     "outputs_hidden": true
    },
    "pycharm": {
     "name": "#%% md\n"
    }
   },
   "source": [
    "I will use the extremely powerful algorithms like **Singular Value Decomposition (SVD)** to minimise RMSE (Root Mean Square Error) and give great recommendations."
   ]
  },
  {
   "cell_type": "code",
   "execution_count": 28,
   "metadata": {
    "_cell_guid": "f2f755fd-c3ef-4095-add8-f88350cf1b36",
    "_uuid": "daa1711d353573b2dcf5145f1882397a2adcab27",
    "collapsed": true,
    "jupyter": {
     "outputs_hidden": true
    }
   },
   "outputs": [
    {
     "name": "stdout",
     "output_type": "stream",
     "text": [
      "RMSE: 0.8958\n"
     ]
    },
    {
     "data": {
      "text/plain": [
       "0.8958117292787996"
      ]
     },
     "execution_count": 28,
     "metadata": {},
     "output_type": "execute_result"
    }
   ],
   "source": [
    "data = Dataset.load_from_df(ratings[['userId', 'movieId', 'rating']], Reader())\n",
    "\n",
    "# sample random trainset and testset\n",
    "# test set is made of 25% of the ratings.\n",
    "trainset, testset = train_test_split(data, test_size=.25)\n",
    "\n",
    "# We'll use the famous SVD algorithm.\n",
    "algo = SVD()\n",
    "\n",
    "# Train the algorithm on the trainset, and predict ratings for the testset\n",
    "algo.fit(trainset)\n",
    "predictions = algo.test(testset)\n",
    "\n",
    "# Then compute RMSE\n",
    "accuracy.rmse(predictions)"
   ]
  },
  {
   "cell_type": "markdown",
   "metadata": {
    "_cell_guid": "0ac7021a-9174-48bd-a1ca-5ab227409963",
    "_uuid": "6f3d3cd411dc437a28ddbd184e77d9229bf224a2"
   },
   "source": [
    "We get a mean **Root Mean Sqaure Error** about 0.89 which is more than good enough for our case. Let us now train on our dataset and arrive at predictions."
   ]
  },
  {
   "cell_type": "code",
   "execution_count": 29,
   "metadata": {
    "_cell_guid": "b39199fa-a02c-4509-852d-85020b36424d",
    "_uuid": "b588afd2750b0ba0793b953edac8c366222f8500",
    "collapsed": true,
    "jupyter": {
     "outputs_hidden": true
    }
   },
   "outputs": [
    {
     "data": {
      "text/plain": [
       "<surprise.prediction_algorithms.matrix_factorization.SVD at 0x20cb39d81c0>"
      ]
     },
     "execution_count": 29,
     "metadata": {},
     "output_type": "execute_result"
    }
   ],
   "source": [
    "trainset = data.build_full_trainset()\n",
    "algo.fit(trainset)"
   ]
  },
  {
   "cell_type": "markdown",
   "metadata": {
    "_cell_guid": "9d6653dc-7ad4-4c78-9c50-bbfe988b4397",
    "_uuid": "f9fc5344c7545c16539aa0966f62b59be1761f34"
   },
   "source": [
    "Let us pick user 1 and check the ratings s/he has given.\n",
    "\n"
   ]
  },
  {
   "cell_type": "code",
   "execution_count": 30,
   "metadata": {
    "_cell_guid": "e0701e4b-dde1-4791-b96e-faa4ae40df8e",
    "_uuid": "9c22aa0cc39595a4414d227a284f92b382eab67a"
   },
   "outputs": [
    {
     "data": {
      "text/plain": [
       "Prediction(uid=1, iid=302, r_ui=None, est=2.660411564025429, details={'was_impossible': False})"
      ]
     },
     "execution_count": 30,
     "metadata": {},
     "output_type": "execute_result"
    }
   ],
   "source": [
    "algo.predict(1, 302)"
   ]
  },
  {
   "cell_type": "markdown",
   "metadata": {
    "_cell_guid": "42878787-6661-4d30-b58a-c5408e683157",
    "_uuid": "ba08a1dc335c8662f4bec66cec36fef04b2c63b5"
   },
   "source": [
    "For movie with ID 302, we get an estimated prediction of **2.8**. One startling feature of this recommender system is that it doesn't care what the movie is (or what it contains). It works purely on the basis of an assigned movie ID and tries to predict ratings based on how the other users have predicted the movie."
   ]
  },
  {
   "cell_type": "markdown",
   "metadata": {
    "_cell_guid": "248ec145-20e4-429c-8718-5c20834be1be",
    "_uuid": "b6fe882ef8417e28bb024306a3879dc67affb7c6"
   },
   "source": [
    "## Hybrid Recommender\n",
    "\n",
    "![](https://www.toonpool.com/user/250/files/hybrid_20095.jpg)"
   ]
  },
  {
   "cell_type": "markdown",
   "metadata": {
    "_cell_guid": "a22740ea-3bfd-4045-89f3-e4199b0c2c6a",
    "_uuid": "0bbff42606aede898eb199443c8c0c5e39a48650"
   },
   "source": [
    "In this section, I will try to build a simple hybrid recommender that brings together techniques we have implemented in the content based and collaborative filter based engines. This is how it will work:\n",
    "\n",
    "* **Input:** User ID and the Title of a Movie\n",
    "* **Output:** Similar movies sorted on the basis of expected ratings by that particular user."
   ]
  },
  {
   "cell_type": "code",
   "execution_count": 42,
   "metadata": {
    "_cell_guid": "97a7efdb-9b93-4ed2-ac89-45c2f99a7304",
    "_uuid": "299a5feac15cdb6fd01f4e243949ba2424f5901c",
    "collapsed": true,
    "jupyter": {
     "outputs_hidden": true
    }
   },
   "outputs": [],
   "source": [
    "id_map = pd.read_csv('../input/the-movies-dataset/links_small.csv',\n",
    "                     usecols=['movieId', 'tmdbId'])\n",
    "id_map = id_map.dropna().astype(int).set_index('tmdbId')\n",
    "\n",
    "\n",
    "def hybrid(userid, title):\n",
    "    movies = recommend(title)\n",
    "    movies['est'] = [algo.predict(userid, id_map.loc[x]['movieId']).est for x in movies.index]\n",
    "    movies = movies.sort_values('est', ascending=False)\n",
    "    return movies.head(10)"
   ]
  },
  {
   "cell_type": "code",
   "execution_count": 45,
   "metadata": {
    "_cell_guid": "ef53f237-5dd0-4f62-8c32-e9666b2268f5",
    "_uuid": "5cea2292f710fae80d580aa43c713531e97451ad"
   },
   "outputs": [
    {
     "data": {
      "text/html": [
       "<div>\n",
       "<style scoped>\n",
       "    .dataframe tbody tr th:only-of-type {\n",
       "        vertical-align: middle;\n",
       "    }\n",
       "\n",
       "    .dataframe tbody tr th {\n",
       "        vertical-align: top;\n",
       "    }\n",
       "\n",
       "    .dataframe thead th {\n",
       "        text-align: right;\n",
       "    }\n",
       "</style>\n",
       "<table border=\"1\" class=\"dataframe\">\n",
       "  <thead>\n",
       "    <tr style=\"text-align: right;\">\n",
       "      <th></th>\n",
       "      <th>title</th>\n",
       "      <th>description</th>\n",
       "      <th>est</th>\n",
       "    </tr>\n",
       "    <tr>\n",
       "      <th>id</th>\n",
       "      <th></th>\n",
       "      <th></th>\n",
       "      <th></th>\n",
       "    </tr>\n",
       "  </thead>\n",
       "  <tbody>\n",
       "    <tr>\n",
       "      <th>238</th>\n",
       "      <td>The Godfather</td>\n",
       "      <td>Spanning the years 1945 to 1955, a chronicle o...</td>\n",
       "      <td>3.992129</td>\n",
       "    </tr>\n",
       "    <tr>\n",
       "      <th>11</th>\n",
       "      <td>Star Wars</td>\n",
       "      <td>Princess Leia is captured and held hostage by ...</td>\n",
       "      <td>3.919471</td>\n",
       "    </tr>\n",
       "    <tr>\n",
       "      <th>120</th>\n",
       "      <td>The Lord of the Rings: The Fellowship of the Ring</td>\n",
       "      <td>Young hobbit Frodo Baggins, after inheriting a...</td>\n",
       "      <td>3.835555</td>\n",
       "    </tr>\n",
       "    <tr>\n",
       "      <th>603</th>\n",
       "      <td>The Matrix</td>\n",
       "      <td>Set in the 22nd century, The Matrix tells the ...</td>\n",
       "      <td>3.826248</td>\n",
       "    </tr>\n",
       "    <tr>\n",
       "      <th>424</th>\n",
       "      <td>Schindler's List</td>\n",
       "      <td>The true story of how businessman Oskar Schind...</td>\n",
       "      <td>3.763180</td>\n",
       "    </tr>\n",
       "    <tr>\n",
       "      <th>289</th>\n",
       "      <td>Casablanca</td>\n",
       "      <td>In Casablanca, Morocco in December 1941, a cyn...</td>\n",
       "      <td>3.734810</td>\n",
       "    </tr>\n",
       "    <tr>\n",
       "      <th>1891</th>\n",
       "      <td>The Empire Strikes Back</td>\n",
       "      <td>The epic saga continues as Luke Skywalker, in ...</td>\n",
       "      <td>3.675987</td>\n",
       "    </tr>\n",
       "    <tr>\n",
       "      <th>121</th>\n",
       "      <td>The Lord of the Rings: The Two Towers</td>\n",
       "      <td>Frodo and Sam are trekking to Mordor to destro...</td>\n",
       "      <td>3.622281</td>\n",
       "    </tr>\n",
       "    <tr>\n",
       "      <th>1585</th>\n",
       "      <td>It's a Wonderful Life</td>\n",
       "      <td>George Bailey has spent his entire life giving...</td>\n",
       "      <td>3.606795</td>\n",
       "    </tr>\n",
       "    <tr>\n",
       "      <th>629</th>\n",
       "      <td>The Usual Suspects</td>\n",
       "      <td>Held in an L.A. interrogation room, Verbal Kin...</td>\n",
       "      <td>3.577960</td>\n",
       "    </tr>\n",
       "  </tbody>\n",
       "</table>\n",
       "</div>"
      ],
      "text/plain": [
       "                                                  title  \\\n",
       "id                                                        \n",
       "238                                       The Godfather   \n",
       "11                                            Star Wars   \n",
       "120   The Lord of the Rings: The Fellowship of the Ring   \n",
       "603                                          The Matrix   \n",
       "424                                    Schindler's List   \n",
       "289                                          Casablanca   \n",
       "1891                            The Empire Strikes Back   \n",
       "121               The Lord of the Rings: The Two Towers   \n",
       "1585                              It's a Wonderful Life   \n",
       "629                                  The Usual Suspects   \n",
       "\n",
       "                                            description       est  \n",
       "id                                                                 \n",
       "238   Spanning the years 1945 to 1955, a chronicle o...  3.992129  \n",
       "11    Princess Leia is captured and held hostage by ...  3.919471  \n",
       "120   Young hobbit Frodo Baggins, after inheriting a...  3.835555  \n",
       "603   Set in the 22nd century, The Matrix tells the ...  3.826248  \n",
       "424   The true story of how businessman Oskar Schind...  3.763180  \n",
       "289   In Casablanca, Morocco in December 1941, a cyn...  3.734810  \n",
       "1891  The epic saga continues as Luke Skywalker, in ...  3.675987  \n",
       "121   Frodo and Sam are trekking to Mordor to destro...  3.622281  \n",
       "1585  George Bailey has spent his entire life giving...  3.606795  \n",
       "629   Held in an L.A. interrogation room, Verbal Kin...  3.577960  "
      ]
     },
     "execution_count": 45,
     "metadata": {},
     "output_type": "execute_result"
    }
   ],
   "source": [
    "hybrid(1, 'Avatar')"
   ]
  },
  {
   "cell_type": "code",
   "execution_count": 44,
   "metadata": {
    "_cell_guid": "381aba27-ecfa-43f1-9dad-c3379a57b8d9",
    "_uuid": "7fc2843807a5fbe792729eee7c74e9cabc6867ca"
   },
   "outputs": [
    {
     "data": {
      "text/html": [
       "<div>\n",
       "<style scoped>\n",
       "    .dataframe tbody tr th:only-of-type {\n",
       "        vertical-align: middle;\n",
       "    }\n",
       "\n",
       "    .dataframe tbody tr th {\n",
       "        vertical-align: top;\n",
       "    }\n",
       "\n",
       "    .dataframe thead th {\n",
       "        text-align: right;\n",
       "    }\n",
       "</style>\n",
       "<table border=\"1\" class=\"dataframe\">\n",
       "  <thead>\n",
       "    <tr style=\"text-align: right;\">\n",
       "      <th></th>\n",
       "      <th>title</th>\n",
       "      <th>description</th>\n",
       "      <th>est</th>\n",
       "    </tr>\n",
       "    <tr>\n",
       "      <th>id</th>\n",
       "      <th></th>\n",
       "      <th></th>\n",
       "      <th></th>\n",
       "    </tr>\n",
       "  </thead>\n",
       "  <tbody>\n",
       "    <tr>\n",
       "      <th>387</th>\n",
       "      <td>Das Boot</td>\n",
       "      <td>A German submarine hunts allied ships during t...</td>\n",
       "      <td>4.183763</td>\n",
       "    </tr>\n",
       "    <tr>\n",
       "      <th>451</th>\n",
       "      <td>Leaving Las Vegas</td>\n",
       "      <td>Ben Sanderson, an alcoholic Hollywood screenwr...</td>\n",
       "      <td>4.024119</td>\n",
       "    </tr>\n",
       "    <tr>\n",
       "      <th>4951</th>\n",
       "      <td>10 Things I Hate About You</td>\n",
       "      <td>Bianca, a tenth grader, has never gone on a da...</td>\n",
       "      <td>3.992704</td>\n",
       "    </tr>\n",
       "    <tr>\n",
       "      <th>637</th>\n",
       "      <td>Life Is Beautiful</td>\n",
       "      <td>A touching story of an Italian book seller of ...</td>\n",
       "      <td>3.982514</td>\n",
       "    </tr>\n",
       "    <tr>\n",
       "      <th>194</th>\n",
       "      <td>Amélie</td>\n",
       "      <td>At a tiny Parisian café, the adorable yet pain...</td>\n",
       "      <td>3.977045</td>\n",
       "    </tr>\n",
       "    <tr>\n",
       "      <th>8392</th>\n",
       "      <td>My Neighbor Totoro</td>\n",
       "      <td>Two sisters move to the country with their fat...</td>\n",
       "      <td>3.966638</td>\n",
       "    </tr>\n",
       "    <tr>\n",
       "      <th>16869</th>\n",
       "      <td>Inglourious Basterds</td>\n",
       "      <td>In Nazi-occupied France during World War II, a...</td>\n",
       "      <td>3.948051</td>\n",
       "    </tr>\n",
       "    <tr>\n",
       "      <th>947</th>\n",
       "      <td>Lawrence of Arabia</td>\n",
       "      <td>An epic about British officer T.E. Lawrence's ...</td>\n",
       "      <td>3.944974</td>\n",
       "    </tr>\n",
       "    <tr>\n",
       "      <th>3090</th>\n",
       "      <td>The Treasure of the Sierra Madre</td>\n",
       "      <td>Fred C. Dobbs and Bob Curtin, both down on the...</td>\n",
       "      <td>3.941701</td>\n",
       "    </tr>\n",
       "    <tr>\n",
       "      <th>2270</th>\n",
       "      <td>Stardust</td>\n",
       "      <td>In a countryside town bordering on a magical l...</td>\n",
       "      <td>3.938191</td>\n",
       "    </tr>\n",
       "  </tbody>\n",
       "</table>\n",
       "</div>"
      ],
      "text/plain": [
       "                                  title  \\\n",
       "id                                        \n",
       "387                            Das Boot   \n",
       "451                   Leaving Las Vegas   \n",
       "4951         10 Things I Hate About You   \n",
       "637                   Life Is Beautiful   \n",
       "194                              Amélie   \n",
       "8392                 My Neighbor Totoro   \n",
       "16869              Inglourious Basterds   \n",
       "947                  Lawrence of Arabia   \n",
       "3090   The Treasure of the Sierra Madre   \n",
       "2270                           Stardust   \n",
       "\n",
       "                                             description       est  \n",
       "id                                                                  \n",
       "387    A German submarine hunts allied ships during t...  4.183763  \n",
       "451    Ben Sanderson, an alcoholic Hollywood screenwr...  4.024119  \n",
       "4951   Bianca, a tenth grader, has never gone on a da...  3.992704  \n",
       "637    A touching story of an Italian book seller of ...  3.982514  \n",
       "194    At a tiny Parisian café, the adorable yet pain...  3.977045  \n",
       "8392   Two sisters move to the country with their fat...  3.966638  \n",
       "16869  In Nazi-occupied France during World War II, a...  3.948051  \n",
       "947    An epic about British officer T.E. Lawrence's ...  3.944974  \n",
       "3090   Fred C. Dobbs and Bob Curtin, both down on the...  3.941701  \n",
       "2270   In a countryside town bordering on a magical l...  3.938191  "
      ]
     },
     "execution_count": 44,
     "metadata": {},
     "output_type": "execute_result"
    }
   ],
   "source": [
    "hybrid(500, 'Avatar')"
   ]
  },
  {
   "cell_type": "markdown",
   "metadata": {
    "_cell_guid": "ca97ebb9-d1d2-4631-a15e-d29580c6c4d1",
    "_uuid": "446cdfa0b07f4f734d483393d56735c280978555"
   },
   "source": [
    "We see that for our hybrid recommender, we get different recommendations for different users although the movie is the same. Hence, our recommendations are more personalized and tailored towards particular users."
   ]
  },
  {
   "cell_type": "markdown",
   "metadata": {
    "_cell_guid": "812fc4c7-b334-4f54-a05f-8fc0e7962a92",
    "_uuid": "ad1edcae8eecd5c725edbe18082bc4d8103ca800",
    "pycharm": {
     "name": "#%% md\n"
    }
   },
   "source": [
    "## Conclusion\n",
    "\n",
    "In this notebook, I have built 4 different recommendation engines based on different ideas and algorithms. They are as follows:\n",
    "\n",
    "1. **Simple Recommender:** This system used overall TMDB Vote Count and Vote Averages to build Top Movies Charts, in general and for a specific genre. The IMDB Weighted Rating System was used to calculate ratings on which the sorting was finally performed.\n",
    "2. **Content Based Recommender:** We built two content based engines; one that took movie overview and taglines as input and the other which took metadata such as cast, crew, genre and keywords to come up with predictions. We also deviced a simple filter to give greater preference to movies with more votes and higher ratings.\n",
    "3. **Collaborative Filtering:** We used the powerful Surprise Library to build a collaborative filter based on single value decomposition. The RMSE obtained was less than 1 and the engine gave estimated ratings for a given user and movie.\n",
    "4. **Hybrid Engine:** We brought together ideas from content and collaborative filterting to build an engine that gave movie suggestions to a particular user based on the estimated ratings that it had internally calculated for that user.\n",
    "\n",
    "\n",
    "Previous -> [The Story of Film](https://www.kaggle.com/rounakbanik/the-story-of-film/)\n",
    "\n",
    "\n",
    "\n"
   ]
  }
 ],
 "metadata": {
  "kernelspec": {
   "display_name": "Python 3",
   "language": "python",
   "name": "python3"
  },
  "language_info": {
   "codemirror_mode": {
    "name": "ipython",
    "version": 3
   },
   "file_extension": ".py",
   "mimetype": "text/x-python",
   "name": "python",
   "nbconvert_exporter": "python",
   "pygments_lexer": "ipython3",
   "version": "3.8.8"
  }
 },
 "nbformat": 4,
 "nbformat_minor": 4
}
